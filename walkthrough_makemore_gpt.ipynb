{
  "nbformat": 4,
  "nbformat_minor": 0,
  "metadata": {
    "colab": {
      "provenance": [],
      "authorship_tag": "ABX9TyNyGlAPMwubvTHoAXqc1GOW",
      "include_colab_link": true
    },
    "kernelspec": {
      "name": "python3",
      "display_name": "Python 3"
    },
    "language_info": {
      "name": "python"
    }
  },
  "cells": [
    {
      "cell_type": "markdown",
      "metadata": {
        "id": "view-in-github",
        "colab_type": "text"
      },
      "source": [
        "<a href=\"https://colab.research.google.com/github/toussaintma/neuralnetworksfromzerotohero/blob/main/walkthrough_makemore_gpt.ipynb\" target=\"_parent\"><img src=\"https://colab.research.google.com/assets/colab-badge.svg\" alt=\"Open In Colab\"/></a>"
      ]
    },
    {
      "cell_type": "code",
      "execution_count": 4,
      "metadata": {
        "colab": {
          "base_uri": "https://localhost:8080/"
        },
        "id": "cuvJGtM4rwyv",
        "outputId": "60033697-b737-4bdb-ff5f-31eecb900b0a"
      },
      "outputs": [
        {
          "output_type": "stream",
          "name": "stdout",
          "text": [
            "--2023-07-24 12:09:50--  https://raw.githubusercontent.com/karpathy/char-rnn/master/data/tinyshakespeare/input.txt\n",
            "Resolving raw.githubusercontent.com (raw.githubusercontent.com)... 185.199.108.133, 185.199.109.133, 185.199.110.133, ...\n",
            "Connecting to raw.githubusercontent.com (raw.githubusercontent.com)|185.199.108.133|:443... connected.\n",
            "HTTP request sent, awaiting response... 200 OK\n",
            "Length: 1115394 (1.1M) [text/plain]\n",
            "Saving to: ‘input.txt.2’\n",
            "\n",
            "\rinput.txt.2           0%[                    ]       0  --.-KB/s               \rinput.txt.2         100%[===================>]   1.06M  --.-KB/s    in 0.05s   \n",
            "\n",
            "2023-07-24 12:09:50 (20.4 MB/s) - ‘input.txt.2’ saved [1115394/1115394]\n",
            "\n"
          ]
        }
      ],
      "source": [
        "# data and code at https://github.com/karpathy/ng-video-lecture\n",
        "# NanoGPT code at https://github.com/karpathy/nanoGPT\n",
        "# course at https://www.youtube.com/watch?v=PaCmpygFfXo&list=PLAqhIrjkxbuWI23v9cThsA9GvCAUhRvKZ&index=2&t=11s\n",
        "!wget https://raw.githubusercontent.com/karpathy/char-rnn/master/data/tinyshakespeare/input.txt\n",
        "# Letw built GTP: from scratch, in code, spelled out\n",
        "# GPT 3 paper: https://arxiv.org/pdf/2005.14165.pdf\n",
        "# Attention is all you need paper: https://arxiv.org/abs/1706.03762\n"
      ]
    },
    {
      "cell_type": "code",
      "source": [
        "import torch\n",
        "import torch.nn as nn\n",
        "from torch.nn import functional as F"
      ],
      "metadata": {
        "id": "BtDc2wSNzi6h"
      },
      "execution_count": 5,
      "outputs": []
    },
    {
      "cell_type": "code",
      "source": [
        "with open('input.txt', 'r', encoding='utf-8') as f:\n",
        "  text = f.read()\n",
        "\n",
        "print('Length of dataset in characters: ', len(text))\n",
        "device = 'cuda' if torch.cuda.is_available() else 'cpu'"
      ],
      "metadata": {
        "colab": {
          "base_uri": "https://localhost:8080/"
        },
        "id": "QwquuY5Pr91C",
        "outputId": "cc432adf-90d0-49e7-83ce-d91d68f947df"
      },
      "execution_count": 6,
      "outputs": [
        {
          "output_type": "stream",
          "name": "stdout",
          "text": [
            "Length of dataset in characters:  1115394\n"
          ]
        }
      ]
    },
    {
      "cell_type": "code",
      "source": [
        "chars = sorted(list(set(text)))\n",
        "vocab_size = len(chars)\n",
        "vocab = ''.join(chars)\n",
        "print(f'Vocabulary of size {vocab_size}: {vocab}')"
      ],
      "metadata": {
        "colab": {
          "base_uri": "https://localhost:8080/"
        },
        "id": "8Q73-GFWzt3v",
        "outputId": "cad55fff-984b-4bee-d3e6-674b57b40c4a"
      },
      "execution_count": 7,
      "outputs": [
        {
          "output_type": "stream",
          "name": "stdout",
          "text": [
            "Vocabulary of size 65: \n",
            " !$&',-.3:;?ABCDEFGHIJKLMNOPQRSTUVWXYZabcdefghijklmnopqrstuvwxyz\n"
          ]
        }
      ]
    },
    {
      "cell_type": "code",
      "source": [
        "stoi = {s:i for (i, s) in enumerate(chars)}\n",
        "itos = {i:s for (i, s) in enumerate(chars)}\n",
        "encode = lambda x: [stoi[a] for a in x]\n",
        "decode = lambda x: ''.join([itos[a] for a in x])\n",
        "stoi[itos[13]], decode(encode('ABC'))"
      ],
      "metadata": {
        "colab": {
          "base_uri": "https://localhost:8080/"
        },
        "id": "AhguORlh1ylb",
        "outputId": "a931f6dc-84dc-4016-e4b9-340a3c075a3b"
      },
      "execution_count": 8,
      "outputs": [
        {
          "output_type": "execute_result",
          "data": {
            "text/plain": [
              "(13, 'ABC')"
            ]
          },
          "metadata": {},
          "execution_count": 8
        }
      ]
    },
    {
      "cell_type": "code",
      "source": [
        "import torch\n",
        "data = torch.tensor(encode(text), dtype=torch.long)\n",
        "print(data.shape, data.dtype)"
      ],
      "metadata": {
        "colab": {
          "base_uri": "https://localhost:8080/"
        },
        "id": "l1nUIQY14jhP",
        "outputId": "dbde32d3-0cc6-4032-bc39-b535ac6fd76e"
      },
      "execution_count": 9,
      "outputs": [
        {
          "output_type": "stream",
          "name": "stdout",
          "text": [
            "torch.Size([1115394]) torch.int64\n"
          ]
        }
      ]
    },
    {
      "cell_type": "code",
      "source": [
        "n = int(0.90 * len(data))\n",
        "train_data = data[:n]\n",
        "eval_data = data[n:]"
      ],
      "metadata": {
        "id": "G6QFpo_y5kkY"
      },
      "execution_count": 10,
      "outputs": []
    },
    {
      "cell_type": "code",
      "source": [
        "block_size = 8\n",
        "train_data[:block_size + 1]"
      ],
      "metadata": {
        "colab": {
          "base_uri": "https://localhost:8080/"
        },
        "id": "xA6wrpDd6LBX",
        "outputId": "11d8ce12-85d6-4c94-ec4c-f5ca8f13d661"
      },
      "execution_count": 11,
      "outputs": [
        {
          "output_type": "execute_result",
          "data": {
            "text/plain": [
              "tensor([18, 47, 56, 57, 58,  1, 15, 47, 58])"
            ]
          },
          "metadata": {},
          "execution_count": 11
        }
      ]
    },
    {
      "cell_type": "code",
      "source": [
        "x = train_data[:block_size]\n",
        "y = train_data[1:block_size+1]\n",
        "for t in range(block_size):\n",
        "  context = x[:t+1]\n",
        "  target = y[t]\n",
        "  print(f'when input i {context} the target is {target}')"
      ],
      "metadata": {
        "colab": {
          "base_uri": "https://localhost:8080/"
        },
        "id": "GRBPNNOj6fri",
        "outputId": "72a63361-447d-490b-b9a2-3f216063ce43"
      },
      "execution_count": 12,
      "outputs": [
        {
          "output_type": "stream",
          "name": "stdout",
          "text": [
            "when input i tensor([18]) the target is 47\n",
            "when input i tensor([18, 47]) the target is 56\n",
            "when input i tensor([18, 47, 56]) the target is 57\n",
            "when input i tensor([18, 47, 56, 57]) the target is 58\n",
            "when input i tensor([18, 47, 56, 57, 58]) the target is 1\n",
            "when input i tensor([18, 47, 56, 57, 58,  1]) the target is 15\n",
            "when input i tensor([18, 47, 56, 57, 58,  1, 15]) the target is 47\n",
            "when input i tensor([18, 47, 56, 57, 58,  1, 15, 47]) the target is 58\n"
          ]
        }
      ]
    },
    {
      "cell_type": "code",
      "source": [
        "torch.manual_seed(1337)\n",
        "\n",
        "batch_size = 4\n",
        "block_size = 8\n",
        "\n",
        "def get_data(split):\n",
        "  data = train_data if split == 'train' else eval_data\n",
        "  ix = torch.randint(len(data) - block_size, (batch_size,))\n",
        "  x = torch.stack([data[i: i+block_size] for i in ix], dim=0)\n",
        "  y = torch.stack([data[i+1: i+block_size+1] for i in ix], dim=0)\n",
        "  return x,y\n",
        "\n",
        "Xb, Yb = get_data('train')"
      ],
      "metadata": {
        "id": "vR5X1GOZ8Ckg"
      },
      "execution_count": 13,
      "outputs": []
    },
    {
      "cell_type": "code",
      "source": [
        "eval_iters = 200\n",
        "max_iters = 5000\n",
        "eval_interval = 500\n",
        "num_heads = 16\n",
        "n_embedding = 32\n",
        "n_head = 4\n",
        "n_layer = 6\n",
        "dropout = 0.2\n",
        "\n",
        "@torch.no_grad()\n",
        "def estimate_loss():\n",
        "    out = {}\n",
        "    model.eval()\n",
        "    for split in ['train', 'val']:\n",
        "        losses = torch.zeros(eval_iters)\n",
        "        for k in range(eval_iters):\n",
        "            X, Y = get_data(split)\n",
        "            logits, loss = model(X, Y)\n",
        "            losses[k] = loss.item()\n",
        "        out[split] = losses.mean()\n",
        "    model.train()\n",
        "    return out\n"
      ],
      "metadata": {
        "id": "kgTq-gzM0orp"
      },
      "execution_count": 152,
      "outputs": []
    },
    {
      "cell_type": "markdown",
      "source": [
        "### Bigram Model"
      ],
      "metadata": {
        "id": "RzVq9YsuVnUE"
      }
    },
    {
      "cell_type": "code",
      "source": [
        "class Block(nn.Module):\n",
        "  def __init__(self, n_embedding, n_head):\n",
        "    super().__init__()\n",
        "    head_size = n_embedding // n_head\n",
        "    self.sa = MultiHeadAttention(n_head, head_size)\n",
        "    self.ffwd = FeedForward(n_embedding)\n",
        "    self.ln1 = nn.LayerNorm(n_embedding)\n",
        "    self.ln2 = nn.LayerNorm(n_embedding)\n",
        "\n",
        "  def forward(self, x):\n",
        "    x = self.sa(self.ln1(x)) + x\n",
        "    x = self.ffwd(self.ln2(x)) + x\n",
        "    return x"
      ],
      "metadata": {
        "id": "yROBNyktFA07"
      },
      "execution_count": 153,
      "outputs": []
    },
    {
      "cell_type": "code",
      "source": [
        "class FeedForward(nn.Module):\n",
        "  def __init__(self, n_hidden):\n",
        "    super().__init__()\n",
        "    self.net = nn.Sequential(\n",
        "        nn.Linear(n_hidden, 4 * n_hidden, bias=False),\n",
        "        nn.ReLU(),\n",
        "        nn.Linear(4 * n_hidden, n_hidden, bias=False),\n",
        "        nn.Dropout(dropout),\n",
        "    )\n",
        "\n",
        "  def forward(self, x):\n",
        "    return self.net(x)"
      ],
      "metadata": {
        "id": "Q9VGjmI6CAWY"
      },
      "execution_count": 154,
      "outputs": []
    },
    {
      "cell_type": "code",
      "source": [
        "class Head(nn.Module):\n",
        "  def __init__(self, head_size):\n",
        "    super().__init__()\n",
        "    self.query = nn.Linear(n_embedding, head_size, bias=False)\n",
        "    self.key = nn.Linear(n_embedding, head_size, bias=False)\n",
        "    self.value = nn.Linear(n_embedding, head_size, bias=False)\n",
        "    self.register_buffer('tril', torch.tril(torch.ones(block_size, block_size)))\n",
        "    self.dropout = nn.Dropout(dropout)\n",
        "\n",
        "  def forward(self, x):\n",
        "    B, T, C = x.shape\n",
        "    q = self.query(x) # B T head_size\n",
        "    k = self.key(x) # B T head_size\n",
        "    wei = q @ k.transpose(-2, -1) * (C ** -0.5) ## (B, T, hs) @ (B, hs, T) -> (B, T, T)\n",
        "    wei = wei.masked_fill(self.tril[:T, :T] == 0, float('-inf')) # B T T\n",
        "    wei = F.softmax(wei, dim=-1) # B T T\n",
        "    wei = self.dropout(wei)\n",
        "    v = self.value(x) # B T hs\n",
        "    out = wei @ v # B T T @ B T hs -> B T hs\n",
        "    return out"
      ],
      "metadata": {
        "id": "KrM8e78-zqlQ"
      },
      "execution_count": 155,
      "outputs": []
    },
    {
      "cell_type": "code",
      "source": [
        "class MultiHeadAttention(nn.Module):\n",
        "  def __init__(self, num_heads, head_size):\n",
        "    super().__init__()\n",
        "    self.heads = nn.ModuleList([Head(head_size) for _ in range(num_heads)])\n",
        "    self.proj = nn.Linear(num_heads * head_size, n_embedding)\n",
        "    self.dropout = nn.Dropout(dropout)\n",
        "\n",
        "  def forward(self, x):\n",
        "    out = torch.cat([h(x) for h in self.heads], dim=-1)\n",
        "    return self.dropout(self.proj(out))"
      ],
      "metadata": {
        "id": "fe0e0grc_4v-"
      },
      "execution_count": 156,
      "outputs": []
    },
    {
      "cell_type": "code",
      "source": [
        "torch.manual_seed(1337)\n",
        "\n",
        "\n",
        "class BigramLanguageModel(nn.Module):\n",
        "  def __init__(self):\n",
        "    super().__init__()\n",
        "    self.token_embedding_table = nn.Embedding(vocab_size, n_embedding)\n",
        "    self.position_embedding_table = nn.Embedding(block_size, n_embedding)\n",
        "    self.blocks = nn.Sequential(*[Block(n_embedding, n_head=n_head) for _ in range(n_layer)])\n",
        "    self.ln_f = nn.LayerNorm(n_embedding)\n",
        "    #self.sa_heads = MultiHeadAttention(4, n_embedding // 4) # 4 heads of 8-dimensional self-attention\n",
        "    #self.ffwd = FeedForward(n_embedding)\n",
        "    self.lm_head = nn.Linear(n_embedding, vocab_size)\n",
        "\n",
        "  def forward(self, idx, targets=None):\n",
        "    B, T = idx.shape\n",
        "\n",
        "    tok_emb = self.token_embedding_table(idx) # Batch * Time * Channel\n",
        "    pos_emb = self.position_embedding_table(torch.arange(T)) # T C\n",
        "    x = tok_emb + pos_emb # B T C\n",
        "    x = self.blocks(x)\n",
        "    #x = self.sa_heads(x) # B T n_emb\n",
        "    #x = self.ffwd(x)\n",
        "    logits = self.lm_head(x) # B T vocab_size\n",
        "\n",
        "    if targets is None:\n",
        "      loss = None\n",
        "    else:\n",
        "      B, T, C = logits.shape\n",
        "      logits = logits.view(B*T, C)\n",
        "      targets = targets.view(B*T)\n",
        "      loss = F.cross_entropy(logits, targets)\n",
        "      #print(logits)\n",
        "\n",
        "    return logits, loss\n",
        "\n",
        "  def generate(self, idx, max_new_token):\n",
        "    # idx indices of batch B T C because we have no targets\n",
        "    out = []\n",
        "    for i in range(max_new_token):\n",
        "      logits, loss = self(idx[:, -block_size:])\n",
        "      logits = logits[:, -1,:] # B C\n",
        "      probs = F.softmax(logits, dim=-1) # B C\n",
        "      pred = torch.multinomial(probs, num_samples=1) # B 1\n",
        "      idx = torch.cat((idx, pred), dim=1) # B T+1\n",
        "    return idx\n",
        "\n",
        "model = BigramLanguageModel()\n",
        "logits, loss = model(Xb, Yb)\n",
        "print(Xb.shape, logits.shape, loss)\n",
        "\n",
        "idx = model.generate(torch.zeros((1,1), dtype=torch.long), max_new_token=100)[0].tolist()\n",
        "print(decode(idx))"
      ],
      "metadata": {
        "colab": {
          "base_uri": "https://localhost:8080/"
        },
        "id": "MIrVpCWaVqWU",
        "outputId": "9d20f862-9341-46be-b588-91d19885955e"
      },
      "execution_count": 157,
      "outputs": [
        {
          "output_type": "stream",
          "name": "stdout",
          "text": [
            "torch.Size([32, 8]) torch.Size([256, 65]) tensor(4.4605, grad_fn=<NllLossBackward0>)\n",
            "\n",
            "DM:jRqDtqPLBsIYcPm-Ydzhukb,mQm:YYScDYWMDicgbsIzJWhCYlYzJ!JbQYc .tVotkFp&L!JBNlObOzQFtVccf wwcrdEkrdr\n"
          ]
        }
      ]
    },
    {
      "cell_type": "code",
      "source": [
        "optimizer = torch.optim.AdamW(model.parameters(), lr=1e-3)"
      ],
      "metadata": {
        "id": "f-I4IyW_lL1g"
      },
      "execution_count": 158,
      "outputs": []
    },
    {
      "cell_type": "code",
      "source": [
        "batch_size = 32\n",
        "\n",
        "for iter in range(10000):\n",
        "   # every once in a while evaluate the loss on train and val sets\n",
        "  if iter % eval_interval == 0 or iter == max_iters - 1:\n",
        "      losses = estimate_loss()\n",
        "      print(f\"step {iter}: train loss {losses['train']:.4f}, val loss {losses['val']:.4f}\")\n",
        "\n",
        "    # sample a batch of data\n",
        "  Xb, Yb = get_data('train')\n",
        "  logits, loss = model(Xb, Yb)\n",
        "  optimizer.zero_grad(set_to_none=True)\n",
        "  loss.backward()\n",
        "  optimizer.step()\n",
        "\n",
        "# generate from the model\n",
        "context = torch.zeros((1, 1), dtype=torch.long, device=device)\n",
        "print(decode(model.generate(context, max_new_token=500)[0].tolist()))\n"
      ],
      "metadata": {
        "colab": {
          "base_uri": "https://localhost:8080/"
        },
        "id": "xlLpeoEzlbuw",
        "outputId": "278ffbad-3892-4e6e-c364-a27c93441d1d"
      },
      "execution_count": 159,
      "outputs": [
        {
          "output_type": "stream",
          "name": "stdout",
          "text": [
            "step 0: train loss 4.5462, val loss 4.5541\n",
            "step 500: train loss 2.4288, val loss 2.4403\n",
            "step 1000: train loss 2.3095, val loss 2.3271\n",
            "step 1500: train loss 2.2362, val loss 2.2545\n",
            "step 2000: train loss 2.1862, val loss 2.2062\n",
            "step 2500: train loss 2.1598, val loss 2.1938\n",
            "step 3000: train loss 2.1155, val loss 2.1655\n",
            "step 3500: train loss 2.1123, val loss 2.1385\n",
            "step 4000: train loss 2.0930, val loss 2.1391\n",
            "step 4500: train loss 2.0689, val loss 2.1214\n",
            "step 4999: train loss 2.0427, val loss 2.0954\n",
            "step 5000: train loss 2.0495, val loss 2.1072\n",
            "step 5500: train loss 2.0380, val loss 2.1083\n",
            "step 6000: train loss 2.0210, val loss 2.0937\n",
            "step 6500: train loss 2.0230, val loss 2.0817\n",
            "step 7000: train loss 2.0058, val loss 2.0868\n",
            "step 7500: train loss 1.9955, val loss 2.0746\n",
            "step 8000: train loss 1.9881, val loss 2.0564\n",
            "step 8500: train loss 1.9778, val loss 2.0696\n",
            "step 9000: train loss 1.9722, val loss 2.0683\n",
            "step 9500: train loss 1.9706, val loss 2.0417\n",
            "\n",
            "BRONIUS:\n",
            "\n",
            "Mirdse of as frounain, good-s:\n",
            "A his of to usaur a that shat ponmomes:\n",
            "Medind Dome,\n",
            "And benound nof the pove this supflalol\n",
            "were!\n",
            "\n",
            "ETCK:\n",
            "I kinght.\n",
            "\n",
            "KING Have wood his I rencang up\n",
            "Tes, none wo ther\n",
            "Ying to nathe.\n",
            "Having one conse oner poting to tuppeces\n",
            "off am it on a dead\n",
            "Thine pucy loves'd Sering sworre.\n",
            "\n",
            "KING\n",
            "CLORD Good fumrippoil of'?\n",
            "3 mole tusels,\n",
            "hour fategn;\n",
            "Seett usor it simerfece, then you dold sou there mine thand scan,' foer, it the move them in faggs;\n",
            "That mock he crourne \n"
          ]
        }
      ]
    },
    {
      "cell_type": "code",
      "source": [
        "#print(decode(model.generate(torch.zeros((1,1), dtype=torch.long), max_new_token=400)[0].tolist()))"
      ],
      "metadata": {
        "id": "6P_j5HaMmHFi"
      },
      "execution_count": null,
      "outputs": []
    },
    {
      "cell_type": "markdown",
      "source": [
        "### Self-attention trick"
      ],
      "metadata": {
        "id": "_O7sny-hnyUe"
      }
    },
    {
      "cell_type": "code",
      "source": [
        "torch.manual_seed(1337)\n",
        "\n",
        "B, T, C = 4, 8, 2\n",
        "x = torch.randn(B, T, C)\n",
        "x.shape"
      ],
      "metadata": {
        "colab": {
          "base_uri": "https://localhost:8080/"
        },
        "id": "nsJ8sf0Jn1Jm",
        "outputId": "d7be5644-48b7-4a8d-d4ee-ef5073608480"
      },
      "execution_count": 22,
      "outputs": [
        {
          "output_type": "execute_result",
          "data": {
            "text/plain": [
              "torch.Size([4, 8, 2])"
            ]
          },
          "metadata": {},
          "execution_count": 22
        }
      ]
    },
    {
      "cell_type": "code",
      "source": [
        "xbow = torch.zeros((B, T, C))\n",
        "for b in range(B):\n",
        "  for t in range(T):\n",
        "    xprev = x[b, :t+1] # t C\n",
        "    xbow[b, t] = torch.mean(xprev, 0) # C\n",
        "\n",
        "print(x[0])\n",
        "print(xbow[0])\n",
        "print(x.shape, xbow.shape)"
      ],
      "metadata": {
        "id": "UQB1-J1hoo5p",
        "colab": {
          "base_uri": "https://localhost:8080/"
        },
        "outputId": "62cf82eb-8169-45a4-ad20-b000678f9301"
      },
      "execution_count": 23,
      "outputs": [
        {
          "output_type": "stream",
          "name": "stdout",
          "text": [
            "tensor([[ 0.1808, -0.0700],\n",
            "        [-0.3596, -0.9152],\n",
            "        [ 0.6258,  0.0255],\n",
            "        [ 0.9545,  0.0643],\n",
            "        [ 0.3612,  1.1679],\n",
            "        [-1.3499, -0.5102],\n",
            "        [ 0.2360, -0.2398],\n",
            "        [-0.9211,  1.5433]])\n",
            "tensor([[ 0.1808, -0.0700],\n",
            "        [-0.0894, -0.4926],\n",
            "        [ 0.1490, -0.3199],\n",
            "        [ 0.3504, -0.2238],\n",
            "        [ 0.3525,  0.0545],\n",
            "        [ 0.0688, -0.0396],\n",
            "        [ 0.0927, -0.0682],\n",
            "        [-0.0341,  0.1332]])\n",
            "torch.Size([4, 8, 2]) torch.Size([4, 8, 2])\n"
          ]
        }
      ]
    },
    {
      "cell_type": "code",
      "source": [
        "wei = torch.tril(torch.ones(T, T))\n",
        "wei = wei / torch.sum(wei, dim=1, keepdim=True)\n",
        "xbow2 = wei @ x\n",
        "(abs(xbow2 - xbow) < 0.01).all()"
      ],
      "metadata": {
        "colab": {
          "base_uri": "https://localhost:8080/"
        },
        "id": "zTFhF2PuJJsl",
        "outputId": "8cbcd0ac-af4f-4c60-87a0-e45cc68e9300"
      },
      "execution_count": 24,
      "outputs": [
        {
          "output_type": "execute_result",
          "data": {
            "text/plain": [
              "tensor(True)"
            ]
          },
          "metadata": {},
          "execution_count": 24
        }
      ]
    },
    {
      "cell_type": "code",
      "source": [
        "exp = torch.tril(torch.ones(T, T)).transpose(0, 1)\n",
        "exp = exp / torch.sum(exp, dim=0)\n",
        "res = torch.Tensor()\n",
        "for b in range(B):\n",
        "  xt = x[b].transpose(0, 1)\n",
        "  r = (xt @ exp).transpose(0, 1)\n",
        "  #print(xt.shape, exp.shape, r.shape)\n",
        "  #print(xt)\n",
        "  #print(exp)\n",
        "  #print(r)\n",
        "  res = torch.cat((res, r), dim=0)\n",
        "res = res.view(4, 8, 2)\n",
        "print(x.shape, res.shape)\n",
        "print(x[1])\n",
        "print(res[1])\n",
        "print(xbow[1])\n",
        "(abs(xbow - res) < 0.01).all()"
      ],
      "metadata": {
        "colab": {
          "base_uri": "https://localhost:8080/"
        },
        "id": "zfXqAJq059bB",
        "outputId": "8e351c93-5861-41f7-b1b6-34a22824c767"
      },
      "execution_count": 25,
      "outputs": [
        {
          "output_type": "stream",
          "name": "stdout",
          "text": [
            "torch.Size([4, 8, 2]) torch.Size([4, 8, 2])\n",
            "tensor([[ 1.3488, -0.1396],\n",
            "        [ 0.2858,  0.9651],\n",
            "        [-2.0371,  0.4931],\n",
            "        [ 1.4870,  0.5910],\n",
            "        [ 0.1260, -1.5627],\n",
            "        [-1.1601, -0.3348],\n",
            "        [ 0.4478, -0.8016],\n",
            "        [ 1.5236,  2.5086]])\n",
            "tensor([[ 1.3488, -0.1396],\n",
            "        [ 0.8173,  0.4127],\n",
            "        [-0.1342,  0.4395],\n",
            "        [ 0.2711,  0.4774],\n",
            "        [ 0.2421,  0.0694],\n",
            "        [ 0.0084,  0.0020],\n",
            "        [ 0.0712, -0.1128],\n",
            "        [ 0.2527,  0.2149]])\n",
            "tensor([[ 1.3488, -0.1396],\n",
            "        [ 0.8173,  0.4127],\n",
            "        [-0.1342,  0.4395],\n",
            "        [ 0.2711,  0.4774],\n",
            "        [ 0.2421,  0.0694],\n",
            "        [ 0.0084,  0.0020],\n",
            "        [ 0.0712, -0.1128],\n",
            "        [ 0.2527,  0.2149]])\n"
          ]
        },
        {
          "output_type": "execute_result",
          "data": {
            "text/plain": [
              "tensor(True)"
            ]
          },
          "metadata": {},
          "execution_count": 25
        }
      ]
    },
    {
      "cell_type": "code",
      "source": [
        "# use softmax()\n",
        "tril = torch.tril(torch.ones(T, T))\n",
        "wei = torch.zeros((T, T))\n",
        "wei = wei.masked_fill(tril == 0, float('-inf'))\n",
        "wei = F.softmax(wei, dim=-1)\n",
        "#wei = wei / torch.sum(wei, dim=1, keepdim=True)\n",
        "xbow3 = wei @ x\n",
        "torch.allclose(xbow, xbow3)\n"
      ],
      "metadata": {
        "colab": {
          "base_uri": "https://localhost:8080/"
        },
        "id": "AceqdeY-K6ew",
        "outputId": "f38bb633-3ed2-44c6-86ad-df6e02974984"
      },
      "execution_count": 26,
      "outputs": [
        {
          "output_type": "execute_result",
          "data": {
            "text/plain": [
              "True"
            ]
          },
          "metadata": {},
          "execution_count": 26
        }
      ]
    },
    {
      "cell_type": "markdown",
      "source": [
        "### Self-attention"
      ],
      "metadata": {
        "id": "b8GWfKSBk4U7"
      }
    },
    {
      "cell_type": "code",
      "source": [
        "B, T, C = 4, 8, 32\n",
        "x = torch.rand(B, T, C)\n",
        "\n",
        "# single head\n",
        "head_size = 16\n",
        "query = nn.Linear(C, head_size, bias=False)\n",
        "key = nn.Linear(C, head_size, bias=False)\n",
        "value = nn.Linear(C, head_size, bias=False)\n",
        "k = key(x) # B, T, head_size\n",
        "q = query(x) # B, T, head_size\n",
        "wei = q @ k.transpose(-2, -1) * head_size ** -0.5  # B T 16 @ B 16 T = B T T\n",
        "\n",
        "\n",
        "tril = torch.tril(torch.ones(T, T))\n",
        "#wei = torch.zeros((T, T))\n",
        "wei = wei.masked_fill(tril == 0, float('-inf'))\n",
        "wei = F.softmax(wei, dim=-1)\n",
        "#out = wei @ x\n",
        "v = value(x)\n",
        "\n",
        "out = wei @ v\n",
        "out.shape"
      ],
      "metadata": {
        "colab": {
          "base_uri": "https://localhost:8080/"
        },
        "id": "kaORuDGIk6Bf",
        "outputId": "c0e8f0ba-ad2d-46c1-9d2c-2eb5ffb6a3b6"
      },
      "execution_count": 27,
      "outputs": [
        {
          "output_type": "execute_result",
          "data": {
            "text/plain": [
              "torch.Size([4, 8, 16])"
            ]
          },
          "metadata": {},
          "execution_count": 27
        }
      ]
    },
    {
      "cell_type": "code",
      "source": [
        "k = torch.randn(B, T, head_size)\n",
        "q = torch.randn(B, T, head_size)\n",
        "wei = q @ k.transpose(-2, -1) * (head_size ** -0.5)\n",
        "q.var(), k.var(), wei.var()"
      ],
      "metadata": {
        "colab": {
          "base_uri": "https://localhost:8080/"
        },
        "id": "dw1Aov-Unp9x",
        "outputId": "e1402d3e-0efc-4144-9c71-a4a3e9718ae3"
      },
      "execution_count": 29,
      "outputs": [
        {
          "output_type": "execute_result",
          "data": {
            "text/plain": [
              "(tensor(1.0298), tensor(0.8976), tensor(0.9621))"
            ]
          },
          "metadata": {},
          "execution_count": 29
        }
      ]
    }
  ]
}