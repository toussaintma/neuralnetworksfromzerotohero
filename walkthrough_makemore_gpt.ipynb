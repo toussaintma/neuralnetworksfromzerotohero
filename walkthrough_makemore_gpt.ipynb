{
  "nbformat": 4,
  "nbformat_minor": 0,
  "metadata": {
    "colab": {
      "provenance": [],
      "authorship_tag": "ABX9TyP6anxoKorgDgH5TUB+a02v",
      "include_colab_link": true
    },
    "kernelspec": {
      "name": "python3",
      "display_name": "Python 3"
    },
    "language_info": {
      "name": "python"
    }
  },
  "cells": [
    {
      "cell_type": "markdown",
      "metadata": {
        "id": "view-in-github",
        "colab_type": "text"
      },
      "source": [
        "<a href=\"https://colab.research.google.com/github/toussaintma/neuralnetworksfromzerotohero/blob/main/walkthrough_makemore_gpt.ipynb\" target=\"_parent\"><img src=\"https://colab.research.google.com/assets/colab-badge.svg\" alt=\"Open In Colab\"/></a>"
      ]
    },
    {
      "cell_type": "code",
      "execution_count": 4,
      "metadata": {
        "colab": {
          "base_uri": "https://localhost:8080/"
        },
        "id": "cuvJGtM4rwyv",
        "outputId": "8137da72-810b-4780-a8c7-468120116948"
      },
      "outputs": [
        {
          "output_type": "stream",
          "name": "stdout",
          "text": [
            "--2023-07-20 08:13:45--  https://raw.githubusercontent.com/karpathy/char-rnn/master/data/tinyshakespeare/input.txt\n",
            "Resolving raw.githubusercontent.com (raw.githubusercontent.com)... 185.199.108.133, 185.199.109.133, 185.199.110.133, ...\n",
            "Connecting to raw.githubusercontent.com (raw.githubusercontent.com)|185.199.108.133|:443... connected.\n",
            "HTTP request sent, awaiting response... 200 OK\n",
            "Length: 1115394 (1.1M) [text/plain]\n",
            "Saving to: ‘input.txt’\n",
            "\n",
            "\rinput.txt             0%[                    ]       0  --.-KB/s               \rinput.txt           100%[===================>]   1.06M  --.-KB/s    in 0.009s  \n",
            "\n",
            "2023-07-20 08:13:45 (113 MB/s) - ‘input.txt’ saved [1115394/1115394]\n",
            "\n"
          ]
        }
      ],
      "source": [
        "# data and code at https://github.com/karpathy/makemore\n",
        "# NanoGPT code at https://github.com/karpathy/nanoGPT\n",
        "# course at https://www.youtube.com/watch?v=PaCmpygFfXo&list=PLAqhIrjkxbuWI23v9cThsA9GvCAUhRvKZ&index=2&t=11s\n",
        "!wget https://raw.githubusercontent.com/karpathy/char-rnn/master/data/tinyshakespeare/input.txt\n",
        "# Letw built GTP: from scratch, in code, spelled out\n",
        "# GPT 3 paper: https://arxiv.org/pdf/2005.14165.pdf\n",
        "# Attention is all you need paper: https://arxiv.org/abs/1706.03762\n"
      ]
    },
    {
      "cell_type": "code",
      "source": [
        "with open('input.txt', 'r', encoding='utf-8') as f:\n",
        "  text = f.read()\n",
        "\n",
        "print('Length of dataset in characters: ', len(text))"
      ],
      "metadata": {
        "colab": {
          "base_uri": "https://localhost:8080/"
        },
        "id": "QwquuY5Pr91C",
        "outputId": "9561b7bf-d96c-4be6-b906-6285a76feb65"
      },
      "execution_count": 5,
      "outputs": [
        {
          "output_type": "stream",
          "name": "stdout",
          "text": [
            "Length of dataset in characters:  1115394\n"
          ]
        }
      ]
    },
    {
      "cell_type": "code",
      "source": [
        "chars = sorted(list(set(text)))\n",
        "vocab_size = len(chars)\n",
        "vocab = ''.join(chars)\n",
        "print(f'Vocabulary of size {vocab_size}: {vocab}')"
      ],
      "metadata": {
        "colab": {
          "base_uri": "https://localhost:8080/"
        },
        "id": "8Q73-GFWzt3v",
        "outputId": "2d6ba625-2eb2-494a-f81c-be64840377ef"
      },
      "execution_count": 6,
      "outputs": [
        {
          "output_type": "stream",
          "name": "stdout",
          "text": [
            "Vocabulary of size 65: \n",
            " !$&',-.3:;?ABCDEFGHIJKLMNOPQRSTUVWXYZabcdefghijklmnopqrstuvwxyz\n"
          ]
        }
      ]
    },
    {
      "cell_type": "code",
      "source": [
        "stoi = {s:i for (i, s) in enumerate(chars)}\n",
        "itos = {i:s for (i, s) in enumerate(chars)}\n",
        "encode = lambda x: [stoi[a] for a in x]\n",
        "decode = lambda x: ''.join([itos[a] for a in x])\n",
        "stoi[itos[13]], decode(encode('ABC'))"
      ],
      "metadata": {
        "colab": {
          "base_uri": "https://localhost:8080/"
        },
        "id": "AhguORlh1ylb",
        "outputId": "e5d733c1-8053-4ff7-8bd6-ac202deeea1a"
      },
      "execution_count": 7,
      "outputs": [
        {
          "output_type": "execute_result",
          "data": {
            "text/plain": [
              "(13, 'ABC')"
            ]
          },
          "metadata": {},
          "execution_count": 7
        }
      ]
    },
    {
      "cell_type": "code",
      "source": [
        "import torch\n",
        "data = torch.tensor(encode(text), dtype=torch.long)\n",
        "print(data.shape, data.dtype)"
      ],
      "metadata": {
        "colab": {
          "base_uri": "https://localhost:8080/"
        },
        "id": "l1nUIQY14jhP",
        "outputId": "a6a4da2c-82be-42ba-d59d-fa93953431c4"
      },
      "execution_count": 8,
      "outputs": [
        {
          "output_type": "stream",
          "name": "stdout",
          "text": [
            "torch.Size([1115394]) torch.int64\n"
          ]
        }
      ]
    },
    {
      "cell_type": "code",
      "source": [
        "n = int(0.90 * len(data))\n",
        "train_data = data[:n]\n",
        "eval_data = data[n:]"
      ],
      "metadata": {
        "id": "G6QFpo_y5kkY"
      },
      "execution_count": 9,
      "outputs": []
    },
    {
      "cell_type": "code",
      "source": [
        "block_size = 8\n",
        "train_data[:block_size + 1]"
      ],
      "metadata": {
        "colab": {
          "base_uri": "https://localhost:8080/"
        },
        "id": "xA6wrpDd6LBX",
        "outputId": "ab202600-5993-43d5-d55f-4ebb605ff072"
      },
      "execution_count": 10,
      "outputs": [
        {
          "output_type": "execute_result",
          "data": {
            "text/plain": [
              "tensor([18, 47, 56, 57, 58,  1, 15, 47, 58])"
            ]
          },
          "metadata": {},
          "execution_count": 10
        }
      ]
    },
    {
      "cell_type": "code",
      "source": [
        "x = train_data[:block_size]\n",
        "y = train_data[1:block_size+1]\n",
        "for t in range(block_size):\n",
        "  context = x[:t+1]\n",
        "  target = y[t]\n",
        "  print(f'when input i {context} the target is {target}')"
      ],
      "metadata": {
        "colab": {
          "base_uri": "https://localhost:8080/"
        },
        "id": "GRBPNNOj6fri",
        "outputId": "fbf22f41-2acd-40a6-a246-9f0401611ea6"
      },
      "execution_count": 11,
      "outputs": [
        {
          "output_type": "stream",
          "name": "stdout",
          "text": [
            "when input i tensor([18]) the target is 47\n",
            "when input i tensor([18, 47]) the target is 56\n",
            "when input i tensor([18, 47, 56]) the target is 57\n",
            "when input i tensor([18, 47, 56, 57]) the target is 58\n",
            "when input i tensor([18, 47, 56, 57, 58]) the target is 1\n",
            "when input i tensor([18, 47, 56, 57, 58,  1]) the target is 15\n",
            "when input i tensor([18, 47, 56, 57, 58,  1, 15]) the target is 47\n",
            "when input i tensor([18, 47, 56, 57, 58,  1, 15, 47]) the target is 58\n"
          ]
        }
      ]
    },
    {
      "cell_type": "code",
      "source": [
        "torch.manual_seed(1337)\n",
        "batch_size = 4\n",
        "block_size = 8\n",
        "\n",
        "def get_data(split):\n",
        "  data = train_data if split == 'train' else eval_data\n",
        "  ix = torch.randint(len(data) - block_size, (batch_size,))\n",
        "  x = torch.stack([data[i: i+block_size] for i in ix], dim=0)\n",
        "  y = torch.stack([data[i+1: i+block_size+1] for i in ix], dim=0)\n",
        "  return x,y\n",
        "\n",
        "Xb, Yb = get_data('train')"
      ],
      "metadata": {
        "id": "vR5X1GOZ8Ckg"
      },
      "execution_count": 20,
      "outputs": []
    },
    {
      "cell_type": "markdown",
      "source": [
        "### Bigram Model"
      ],
      "metadata": {
        "id": "RzVq9YsuVnUE"
      }
    },
    {
      "cell_type": "code",
      "source": [
        "import torch\n",
        "import torch.nn as nn\n",
        "from torch.nn import functional as F\n",
        "torch.manual_seed(1337)\n",
        "\n",
        "n_embedding = vocab_size\n",
        "\n",
        "class BigramLanguageModel(nn.Module):\n",
        "  def __init__(self, vocab_size):\n",
        "    super().__init__()\n",
        "    self.token_embedding_table = nn.Embedding(vocab_size, n_embedding)\n",
        "\n",
        "  def forward(self, idx, targets=None):\n",
        "    logits = self.token_embedding_table(idx) # Batch * Time * Channel\n",
        "\n",
        "    if targets is None:\n",
        "      loss = None\n",
        "    else:\n",
        "      B, T, C = logits.shape\n",
        "      logits = logits.view(B*T, C)\n",
        "      targets = targets.view(B*T)\n",
        "      loss = F.cross_entropy(logits, targets)\n",
        "\n",
        "    return logits, loss\n",
        "\n",
        "  def generate(self, idx, max_new_token):\n",
        "    # idx indices of batch B T C because we have no targets\n",
        "    out = []\n",
        "    for i in range(max_new_token):\n",
        "      logits, loss = self(idx)\n",
        "      logits = logits[:, -1,:] # B C\n",
        "      probs = F.softmax(logits, dim=-1) # B C\n",
        "      pred = torch.multinomial(probs, num_samples=1) # B 1\n",
        "      idx = torch.cat((idx, pred), dim=1) # B T+1\n",
        "    return idx\n",
        "\n",
        "model = BigramLanguageModel(vocab_size)\n",
        "logits, loss = model(Xb, Yb)\n",
        "Xb.shape, logits.shape, loss\n",
        "\n",
        "idx = model.generate(torch.zeros((1,1), dtype=torch.long), max_new_token=100)[0].tolist()\n",
        "print(decode(idx))\n",
        "\n"
      ],
      "metadata": {
        "colab": {
          "base_uri": "https://localhost:8080/"
        },
        "id": "MIrVpCWaVqWU",
        "outputId": "dec5b7d5-d87e-4ab6-99fa-9c04375454c0"
      },
      "execution_count": 67,
      "outputs": [
        {
          "output_type": "stream",
          "name": "stdout",
          "text": [
            "\n",
            "Sr?qP-QWktXoL&jLDJgOLVz'RIoDqHdhsV&vLLxatjscMpwLERSPyao.qfzs$Ys$zF-w,;eEkzxjgCKFChs!iWW.ObzDnxA Ms$3\n"
          ]
        }
      ]
    },
    {
      "cell_type": "code",
      "source": [
        "optimizer = torch.optim.AdamW(model.parameters(), lr=1e-3)"
      ],
      "metadata": {
        "id": "f-I4IyW_lL1g"
      },
      "execution_count": 68,
      "outputs": []
    },
    {
      "cell_type": "code",
      "source": [
        "batch_size = 32\n",
        "\n",
        "for step in range(10000):\n",
        "  Xb, Yb = get_data('train')\n",
        "  logits, loss = model.forward(Xb, Yb)\n",
        "  optimizer.zero_grad(set_to_none=True)\n",
        "  loss.backward()\n",
        "  optimizer.step()\n",
        "print(loss.item())\n"
      ],
      "metadata": {
        "colab": {
          "base_uri": "https://localhost:8080/"
        },
        "id": "xlLpeoEzlbuw",
        "outputId": "80d5ec9f-f169-4bd8-8f9c-6165339efc65"
      },
      "execution_count": 75,
      "outputs": [
        {
          "output_type": "stream",
          "name": "stdout",
          "text": [
            "2.495130777359009\n"
          ]
        }
      ]
    },
    {
      "cell_type": "code",
      "source": [
        "#print(decode(model.generate(torch.zeros((1,1), dtype=torch.long), max_new_token=400)[0].tolist()))"
      ],
      "metadata": {
        "id": "6P_j5HaMmHFi"
      },
      "execution_count": 77,
      "outputs": []
    },
    {
      "cell_type": "markdown",
      "source": [
        "### Self-attention trick"
      ],
      "metadata": {
        "id": "_O7sny-hnyUe"
      }
    },
    {
      "cell_type": "code",
      "source": [
        "torch.manual_seed = 1337\n",
        "B, T, C = 4, 8, 2\n",
        "x = torch.randn(B, T, C)\n",
        "x.shape"
      ],
      "metadata": {
        "colab": {
          "base_uri": "https://localhost:8080/"
        },
        "id": "nsJ8sf0Jn1Jm",
        "outputId": "5b67f981-0846-43bc-af76-9020f0073e0e"
      },
      "execution_count": 79,
      "outputs": [
        {
          "output_type": "execute_result",
          "data": {
            "text/plain": [
              "torch.Size([4, 8, 2])"
            ]
          },
          "metadata": {},
          "execution_count": 79
        }
      ]
    },
    {
      "cell_type": "code",
      "source": [
        "\n",
        "xbow = torch.zeros((B, T, C))\n",
        "for b in range(B):\n",
        "  for t in range(T):\n",
        "    xprev = x[b, :t+1] # t C\n",
        "    xbow[b, t] = torch.mean(xprev, 0) # C\n",
        "\n",
        "#print(x[0])\n",
        "#print(xbow[0])"
      ],
      "metadata": {
        "id": "UQB1-J1hoo5p"
      },
      "execution_count": 85,
      "outputs": []
    },
    {
      "cell_type": "code",
      "source": [
        "a = torch.tril(torch.ones(3,3))\n",
        "a\n"
      ],
      "metadata": {
        "colab": {
          "base_uri": "https://localhost:8080/"
        },
        "id": "aFo9seURrOCb",
        "outputId": "19019bc3-a240-41e2-fe49-f8438c47522f"
      },
      "execution_count": 87,
      "outputs": [
        {
          "output_type": "execute_result",
          "data": {
            "text/plain": [
              "tensor([[1., 0., 0.],\n",
              "        [1., 1., 0.],\n",
              "        [1., 1., 1.]])"
            ]
          },
          "metadata": {},
          "execution_count": 87
        }
      ]
    }
  ]
}