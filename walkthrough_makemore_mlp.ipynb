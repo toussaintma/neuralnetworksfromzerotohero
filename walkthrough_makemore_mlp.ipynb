{
  "nbformat": 4,
  "nbformat_minor": 0,
  "metadata": {
    "colab": {
      "provenance": [],
      "authorship_tag": "ABX9TyNYDc5rrWF9gFbJs7CLcip9",
      "include_colab_link": true
    },
    "kernelspec": {
      "name": "python3",
      "display_name": "Python 3"
    },
    "language_info": {
      "name": "python"
    }
  },
  "cells": [
    {
      "cell_type": "markdown",
      "metadata": {
        "id": "view-in-github",
        "colab_type": "text"
      },
      "source": [
        "<a href=\"https://colab.research.google.com/github/toussaintma/neuralnetworksfromzerotohero/blob/main/walkthrough_makemore_mlp.ipynb\" target=\"_parent\"><img src=\"https://colab.research.google.com/assets/colab-badge.svg\" alt=\"Open In Colab\"/></a>"
      ]
    },
    {
      "cell_type": "code",
      "execution_count": 148,
      "metadata": {
        "id": "Hwpya_9rcRB_"
      },
      "outputs": [],
      "source": [
        "# data and code at https://github.com/karpathy/makemore\n",
        "# course at https://www.youtube.com/watch?v=PaCmpygFfXo&list=PLAqhIrjkxbuWI23v9cThsA9GvCAUhRvKZ&index=2&t=11s"
      ]
    },
    {
      "cell_type": "code",
      "source": [
        "import pandas as pd\n",
        "import torch"
      ],
      "metadata": {
        "id": "gY0brpEBdN1B"
      },
      "execution_count": 149,
      "outputs": []
    },
    {
      "cell_type": "code",
      "source": [
        "df_words = pd.read_csv('names.txt', header=None, names=['name'])"
      ],
      "metadata": {
        "id": "Rt1J4UzmdiGk"
      },
      "execution_count": 150,
      "outputs": []
    },
    {
      "cell_type": "code",
      "source": [
        "df_words.shape"
      ],
      "metadata": {
        "colab": {
          "base_uri": "https://localhost:8080/"
        },
        "id": "27rhtQACdwq1",
        "outputId": "2d2588c9-b148-402b-c23d-cbaa9415a510"
      },
      "execution_count": 151,
      "outputs": [
        {
          "output_type": "execute_result",
          "data": {
            "text/plain": [
              "(32033, 1)"
            ]
          },
          "metadata": {},
          "execution_count": 151
        }
      ]
    },
    {
      "cell_type": "code",
      "source": [
        "df_words['name']"
      ],
      "metadata": {
        "colab": {
          "base_uri": "https://localhost:8080/"
        },
        "id": "Kw-Ia2pWfJpa",
        "outputId": "9912caff-cbc1-4f5c-d658-2a803801f9a6"
      },
      "execution_count": 152,
      "outputs": [
        {
          "output_type": "execute_result",
          "data": {
            "text/plain": [
              "0            emma\n",
              "1          olivia\n",
              "2             ava\n",
              "3        isabella\n",
              "4          sophia\n",
              "           ...   \n",
              "32028       zylas\n",
              "32029       zyran\n",
              "32030       zyrie\n",
              "32031       zyron\n",
              "32032       zzyzx\n",
              "Name: name, Length: 32033, dtype: object"
            ]
          },
          "metadata": {},
          "execution_count": 152
        }
      ]
    },
    {
      "cell_type": "code",
      "source": [
        "stat = {}\n",
        "for w in df_words.loc[:, 'name']:\n",
        "  w = '.' + w + '.'\n",
        "  for ch1, ch2 in zip(w, w[1:]):\n",
        "    #print(ch1, ch2, sep='')\n",
        "    if ch1 + ch2 in stat:\n",
        "      stat[ch1 + ch2] += 1\n",
        "    else:\n",
        "      stat[ch1 + ch2] = 1\n",
        "len(stat)"
      ],
      "metadata": {
        "id": "zOeCFOI9eZf7",
        "colab": {
          "base_uri": "https://localhost:8080/"
        },
        "outputId": "8251d84d-1bbe-46aa-eff6-69a862857342"
      },
      "execution_count": 153,
      "outputs": [
        {
          "output_type": "execute_result",
          "data": {
            "text/plain": [
              "627"
            ]
          },
          "metadata": {},
          "execution_count": 153
        }
      ]
    },
    {
      "cell_type": "code",
      "source": [
        "stat['em']"
      ],
      "metadata": {
        "colab": {
          "base_uri": "https://localhost:8080/"
        },
        "id": "2Ou-YMItc3Uk",
        "outputId": "5ee7fd37-fbca-4999-82ea-dc0ad2d32473"
      },
      "execution_count": 154,
      "outputs": [
        {
          "output_type": "execute_result",
          "data": {
            "text/plain": [
              "769"
            ]
          },
          "metadata": {},
          "execution_count": 154
        }
      ]
    },
    {
      "cell_type": "code",
      "source": [
        "sorted(stat.items(), key = lambda v: -v[1])[:10]"
      ],
      "metadata": {
        "colab": {
          "base_uri": "https://localhost:8080/"
        },
        "id": "PQbbkkc62pI7",
        "outputId": "78d69a9a-f335-46e3-c112-3661c3b99701"
      },
      "execution_count": 155,
      "outputs": [
        {
          "output_type": "execute_result",
          "data": {
            "text/plain": [
              "[('n.', 6763),\n",
              " ('a.', 6640),\n",
              " ('an', 5438),\n",
              " ('.a', 4410),\n",
              " ('e.', 3983),\n",
              " ('ar', 3264),\n",
              " ('el', 3248),\n",
              " ('ri', 3033),\n",
              " ('na', 2977),\n",
              " ('.k', 2963)]"
            ]
          },
          "metadata": {},
          "execution_count": 155
        }
      ]
    },
    {
      "cell_type": "code",
      "source": [
        "def get_index(c):\n",
        "  result = 0\n",
        "  if (c != '.'):\n",
        "    result = ord(c) - ord('a') + 1\n",
        "  return result\n",
        "\n",
        "def get_char(i):\n",
        "  result = '.'\n",
        "  if (i != 0):\n",
        "    result = chr(ord('a') + i - 1)\n",
        "  return result\n",
        "get_index('e'), get_index('m'), get_index(get_char(4)), get_index('.'), get_char(0)"
      ],
      "metadata": {
        "colab": {
          "base_uri": "https://localhost:8080/"
        },
        "id": "59to8CXmh214",
        "outputId": "73ca55cf-c08b-444c-86cf-bd884546630f"
      },
      "execution_count": 156,
      "outputs": [
        {
          "output_type": "execute_result",
          "data": {
            "text/plain": [
              "(5, 13, 4, 0, '.')"
            ]
          },
          "metadata": {},
          "execution_count": 156
        }
      ]
    },
    {
      "cell_type": "code",
      "source": [
        "stat['.a'], stat['a.']"
      ],
      "metadata": {
        "colab": {
          "base_uri": "https://localhost:8080/"
        },
        "id": "-resh-_TuKwC",
        "outputId": "acfb633b-512f-4f7c-d184-4d6396c7e3e7"
      },
      "execution_count": 157,
      "outputs": [
        {
          "output_type": "execute_result",
          "data": {
            "text/plain": [
              "(4410, 6640)"
            ]
          },
          "metadata": {},
          "execution_count": 157
        }
      ]
    },
    {
      "cell_type": "code",
      "source": [
        "stats = [[0 for i in range(27)] for j in range(27)]\n",
        "len(stats)"
      ],
      "metadata": {
        "colab": {
          "base_uri": "https://localhost:8080/"
        },
        "id": "F7O3AYV5j9WA",
        "outputId": "4a1b418b-f530-4aef-ae3d-a1f1aec54d6c"
      },
      "execution_count": 158,
      "outputs": [
        {
          "output_type": "execute_result",
          "data": {
            "text/plain": [
              "27"
            ]
          },
          "metadata": {},
          "execution_count": 158
        }
      ]
    },
    {
      "cell_type": "code",
      "source": [
        "for k, v in stat.items():\n",
        "  stats[get_index(k[0])][get_index(k[1])] = v\n",
        "t_stats = torch.tensor(stats, dtype=torch.float32)\n",
        "t_stats.shape, t_stats.ndim"
      ],
      "metadata": {
        "colab": {
          "base_uri": "https://localhost:8080/"
        },
        "id": "YuPdQ1kJkMzG",
        "outputId": "8fc0ef43-9d6a-4c35-9768-60c0632ef0f9"
      },
      "execution_count": 159,
      "outputs": [
        {
          "output_type": "execute_result",
          "data": {
            "text/plain": [
              "(torch.Size([27, 27]), 2)"
            ]
          },
          "metadata": {},
          "execution_count": 159
        }
      ]
    },
    {
      "cell_type": "code",
      "source": [
        "t_stats[5, 13] # is 'em' = 769"
      ],
      "metadata": {
        "colab": {
          "base_uri": "https://localhost:8080/"
        },
        "id": "yQ2VyvduezO9",
        "outputId": "f8c62cea-b5a3-42e8-f735-96e56290d839"
      },
      "execution_count": 160,
      "outputs": [
        {
          "output_type": "execute_result",
          "data": {
            "text/plain": [
              "tensor(769.)"
            ]
          },
          "metadata": {},
          "execution_count": 160
        }
      ]
    },
    {
      "cell_type": "code",
      "source": [
        "t_stats.sum(dim=1, keepdim=True).shape"
      ],
      "metadata": {
        "colab": {
          "base_uri": "https://localhost:8080/"
        },
        "id": "60n3O6DfkDKS",
        "outputId": "485a6b36-0214-4ddf-8281-41d2c2ad5197"
      },
      "execution_count": 161,
      "outputs": [
        {
          "output_type": "execute_result",
          "data": {
            "text/plain": [
              "torch.Size([27, 1])"
            ]
          },
          "metadata": {},
          "execution_count": 161
        }
      ]
    },
    {
      "cell_type": "code",
      "source": [
        "t_stats = t_stats / t_stats.sum(dim=-1).unsqueeze(-1) # a is 556/27245 found 2.0407e-02 OK\n",
        "t_stats[0]"
      ],
      "metadata": {
        "colab": {
          "base_uri": "https://localhost:8080/"
        },
        "id": "1wTUijABfZG4",
        "outputId": "ff6aa00f-d984-4806-866b-d2c7413a5883"
      },
      "execution_count": 162,
      "outputs": [
        {
          "output_type": "execute_result",
          "data": {
            "text/plain": [
              "tensor([0.0000, 0.1377, 0.0408, 0.0481, 0.0528, 0.0478, 0.0130, 0.0209, 0.0273,\n",
              "        0.0184, 0.0756, 0.0925, 0.0491, 0.0792, 0.0358, 0.0123, 0.0161, 0.0029,\n",
              "        0.0512, 0.0642, 0.0408, 0.0024, 0.0117, 0.0096, 0.0042, 0.0167, 0.0290])"
            ]
          },
          "metadata": {},
          "execution_count": 162
        }
      ]
    },
    {
      "cell_type": "code",
      "source": [
        "t_stats.sum(dim=1)"
      ],
      "metadata": {
        "colab": {
          "base_uri": "https://localhost:8080/"
        },
        "id": "uVg6oXi1hCfd",
        "outputId": "fa4f9d6b-4c3f-455c-de8f-bf387da7fbda"
      },
      "execution_count": 163,
      "outputs": [
        {
          "output_type": "execute_result",
          "data": {
            "text/plain": [
              "tensor([1.0000, 1.0000, 1.0000, 1.0000, 1.0000, 1.0000, 1.0000, 1.0000, 1.0000,\n",
              "        1.0000, 1.0000, 1.0000, 1.0000, 1.0000, 1.0000, 1.0000, 1.0000, 1.0000,\n",
              "        1.0000, 1.0000, 1.0000, 1.0000, 1.0000, 1.0000, 1.0000, 1.0000, 1.0000])"
            ]
          },
          "metadata": {},
          "execution_count": 163
        }
      ]
    },
    {
      "cell_type": "code",
      "source": [
        "sample = torch.multinomial(t_stats, 20, replacement=True)\n",
        "result = '.'\n",
        "next_char = '.'\n",
        "done = False\n",
        "for i in range(10):\n",
        "  next_char = get_char(sample[get_index(next_char)][i])\n",
        "  if (next_char == '.'):\n",
        "    done = True\n",
        "  if (not done):\n",
        "    result = result + next_char\n",
        "print(result)"
      ],
      "metadata": {
        "colab": {
          "base_uri": "https://localhost:8080/"
        },
        "id": "ngTt1E8JlrFD",
        "outputId": "89be91b2-1410-4781-d14d-ae0842f390c4"
      },
      "execution_count": 164,
      "outputs": [
        {
          "output_type": "stream",
          "name": "stdout",
          "text": [
            ".feyann\n"
          ]
        }
      ]
    },
    {
      "cell_type": "code",
      "source": [
        "t_stats[0]"
      ],
      "metadata": {
        "colab": {
          "base_uri": "https://localhost:8080/"
        },
        "id": "GUDS89sM0KnA",
        "outputId": "5168ba8a-365f-417e-b262-1972f78c6a36"
      },
      "execution_count": 165,
      "outputs": [
        {
          "output_type": "execute_result",
          "data": {
            "text/plain": [
              "tensor([0.0000, 0.1377, 0.0408, 0.0481, 0.0528, 0.0478, 0.0130, 0.0209, 0.0273,\n",
              "        0.0184, 0.0756, 0.0925, 0.0491, 0.0792, 0.0358, 0.0123, 0.0161, 0.0029,\n",
              "        0.0512, 0.0642, 0.0408, 0.0024, 0.0117, 0.0096, 0.0042, 0.0167, 0.0290])"
            ]
          },
          "metadata": {},
          "execution_count": 165
        }
      ]
    },
    {
      "cell_type": "code",
      "source": [
        "torch.zeros(1)"
      ],
      "metadata": {
        "colab": {
          "base_uri": "https://localhost:8080/"
        },
        "id": "bXxbTCyKBqkg",
        "outputId": "0932db8e-aaca-42b0-be1e-96063c20f011"
      },
      "execution_count": 177,
      "outputs": [
        {
          "output_type": "execute_result",
          "data": {
            "text/plain": [
              "tensor([0.])"
            ]
          },
          "metadata": {},
          "execution_count": 177
        }
      ]
    },
    {
      "cell_type": "code",
      "source": [
        "ll = 0\n",
        "n = 0\n",
        "result = []\n",
        "for w in df_words.loc[:, 'name']:\n",
        "  w = '.' + w + '.'\n",
        "  for ch1, ch2 in zip(w, w[1:]):\n",
        "    newll = torch.log(t_stats[get_index(ch1)][get_index(ch2)])\n",
        "    n += 1\n",
        "    ll += newll.item()\n",
        "    result.append([ch1, ch2, newll, ll])\n",
        "ll # should be -38.7856 for the first 3 words\n",
        "ll /= n\n",
        "nll = - ll\n",
        "nll"
      ],
      "metadata": {
        "colab": {
          "base_uri": "https://localhost:8080/"
        },
        "id": "ZQG7ip4s_LVB",
        "outputId": "ad56ae0f-013b-454d-b17e-641cafe08564"
      },
      "execution_count": 188,
      "outputs": [
        {
          "output_type": "execute_result",
          "data": {
            "text/plain": [
              "2.4540144946949742"
            ]
          },
          "metadata": {},
          "execution_count": 188
        }
      ]
    }
  ]
}