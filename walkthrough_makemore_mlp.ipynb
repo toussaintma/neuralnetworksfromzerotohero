{
  "nbformat": 4,
  "nbformat_minor": 0,
  "metadata": {
    "colab": {
      "provenance": [],
      "authorship_tag": "ABX9TyOEkBWlYA3JOKDkl1bLGs7A",
      "include_colab_link": true
    },
    "kernelspec": {
      "name": "python3",
      "display_name": "Python 3"
    },
    "language_info": {
      "name": "python"
    }
  },
  "cells": [
    {
      "cell_type": "markdown",
      "metadata": {
        "id": "view-in-github",
        "colab_type": "text"
      },
      "source": [
        "<a href=\"https://colab.research.google.com/github/toussaintma/neuralnetworksfromzerotohero/blob/main/walkthrough_makemore_mlp.ipynb\" target=\"_parent\"><img src=\"https://colab.research.google.com/assets/colab-badge.svg\" alt=\"Open In Colab\"/></a>"
      ]
    },
    {
      "cell_type": "code",
      "execution_count": 4,
      "metadata": {
        "id": "Hwpya_9rcRB_"
      },
      "outputs": [],
      "source": [
        "# data and code at https://github.com/karpathy/makemore\n",
        "# course at https://www.youtube.com/watch?v=PaCmpygFfXo&list=PLAqhIrjkxbuWI23v9cThsA9GvCAUhRvKZ&index=2&t=11s\n",
        "# Bengio 2003 paper: https://www.jmlr.org/papers/volume3/bengio03a/bengio03a.pdf\n",
        "!wget https://raw.githubusercontent.com/karpathy/makemore/master/names.txt"
      ]
    },
    {
      "cell_type": "code",
      "source": [
        "import pandas as pd\n",
        "import torch\n",
        "import torch.nn.functional as F\n",
        "import matplotlib.pyplot as plt\n",
        "%matplotlib inline\n"
      ],
      "metadata": {
        "id": "gY0brpEBdN1B"
      },
      "execution_count": 5,
      "outputs": []
    },
    {
      "cell_type": "code",
      "source": [
        "df_words = pd.read_csv('names.txt', header=None, names=['name'])\n",
        "df_words.shape"
      ],
      "metadata": {
        "id": "Rt1J4UzmdiGk",
        "outputId": "83df9da7-88f4-43a7-f1d0-c4ea0a972fcc",
        "colab": {
          "base_uri": "https://localhost:8080/"
        }
      },
      "execution_count": 6,
      "outputs": [
        {
          "output_type": "execute_result",
          "data": {
            "text/plain": [
              "(32033, 1)"
            ]
          },
          "metadata": {},
          "execution_count": 6
        }
      ]
    },
    {
      "cell_type": "code",
      "source": [
        "words = df_words['name'].values.tolist()\n",
        "words[:8]"
      ],
      "metadata": {
        "colab": {
          "base_uri": "https://localhost:8080/"
        },
        "id": "27rhtQACdwq1",
        "outputId": "c2c0c272-c71d-4c23-dd16-908a04a388dc"
      },
      "execution_count": 7,
      "outputs": [
        {
          "output_type": "execute_result",
          "data": {
            "text/plain": [
              "['emma', 'olivia', 'ava', 'isabella', 'sophia', 'charlotte', 'mia', 'amelia']"
            ]
          },
          "metadata": {},
          "execution_count": 7
        }
      ]
    },
    {
      "cell_type": "code",
      "source": [
        "chars = sorted(list(set(\"\".join(words))))\n",
        "stoi = {c : i + 1 for i, c in enumerate(chars)}\n",
        "stoi['.'] = 0\n",
        "itos = {i + 1: chars[i] for i in range(len(chars))}\n",
        "itos[0] = '.'"
      ],
      "metadata": {
        "id": "K3vAw9MHYq14"
      },
      "execution_count": 8,
      "outputs": []
    },
    {
      "cell_type": "code",
      "source": [
        "block_size = 3\n",
        "X = []\n",
        "Y = []\n",
        "for w in words[:5]:\n",
        "  #print(w)\n",
        "  context = [0] * block_size\n",
        "  for ch in w + '.':\n",
        "    ix = stoi[ch]\n",
        "    X.append(context)\n",
        "    Y.append(ix)\n",
        "    #print(''.join(itos[i] for i in context), ' --> ', itos[ix])\n",
        "    context = context[1:] + [ix]\n",
        "\n",
        "X = torch.tensor(X)\n",
        "Y = torch.tensor(Y)\n"
      ],
      "metadata": {
        "id": "zOeCFOI9eZf7"
      },
      "execution_count": 42,
      "outputs": []
    },
    {
      "cell_type": "code",
      "source": [
        "X.shape, X.dtype, Y.shape, Y.dtype"
      ],
      "metadata": {
        "colab": {
          "base_uri": "https://localhost:8080/"
        },
        "id": "2Ou-YMItc3Uk",
        "outputId": "41932857-08ea-451c-e333-4dbd5e065bd3"
      },
      "execution_count": 10,
      "outputs": [
        {
          "output_type": "execute_result",
          "data": {
            "text/plain": [
              "(torch.Size([32, 3]), torch.int64, torch.Size([32]), torch.int64)"
            ]
          },
          "metadata": {},
          "execution_count": 10
        }
      ]
    },
    {
      "cell_type": "code",
      "source": [
        "block_size = 5\n",
        "emb_size = 15\n",
        "inner_size = 300"
      ],
      "metadata": {
        "id": "xvlYw8k_oWBc"
      },
      "execution_count": 178,
      "outputs": []
    },
    {
      "cell_type": "code",
      "source": [
        "def build_dataset(word):\n",
        "  X = []\n",
        "  Y = []\n",
        "  for w in words[:]:\n",
        "    #print(w)\n",
        "    context = [0] * block_size\n",
        "    for ch in w + '.':\n",
        "      ix = stoi[ch]\n",
        "      X.append(context)\n",
        "      Y.append(ix)\n",
        "      #print(''.join(itos[i] for i in context), ' --> ', itos[ix])\n",
        "      context = context[1:] + [ix]\n",
        "\n",
        "  X = torch.tensor(X)\n",
        "  Y = torch.tensor(Y)\n",
        "  return X, Y\n",
        "\n",
        "import random\n",
        "random.seed(42)\n",
        "random.shuffle(words)\n",
        "n1 = int(0.8*len(words))\n",
        "n2 = int(0.9*len(words))\n",
        "\n",
        "Xtr, Ytr = build_dataset(words[:n1])\n",
        "Xdev, Ydev = build_dataset(words[n1:n2])\n",
        "Xte, Yte = build_dataset(words[n2:])\n"
      ],
      "metadata": {
        "id": "gxsUou1zdkSO"
      },
      "execution_count": 179,
      "outputs": []
    },
    {
      "cell_type": "code",
      "source": [
        "C = torch.randn((27, emb_size))"
      ],
      "metadata": {
        "id": "HqeHuxUogKnu"
      },
      "execution_count": 180,
      "outputs": []
    },
    {
      "cell_type": "code",
      "source": [
        "#C[5], F.one_hot(torch.tensor(5), num_classes = 27).float() @ C"
      ],
      "metadata": {
        "id": "DAL98GC0hD_v",
        "outputId": "0a4491a8-7f3b-4121-bada-046760993d6b",
        "colab": {
          "base_uri": "https://localhost:8080/"
        }
      },
      "execution_count": 68,
      "outputs": [
        {
          "output_type": "execute_result",
          "data": {
            "text/plain": [
              "(tensor([-0.2427, -0.5470,  0.0335,  1.0634, -2.3429, -0.9825, -0.2980,  0.2960,\n",
              "          1.2539,  0.1154]),\n",
              " tensor([-0.2427, -0.5470,  0.0335,  1.0634, -2.3429, -0.9825, -0.2980,  0.2960,\n",
              "          1.2539,  0.1154]))"
            ]
          },
          "metadata": {},
          "execution_count": 68
        }
      ]
    },
    {
      "cell_type": "code",
      "source": [
        "emb = C[Xtr]\n",
        "#emb.view(32, 6) == torch.cat(torch.unbind(emb, dim=1), dim=1)\n",
        "emb.shape"
      ],
      "metadata": {
        "id": "ELKi2nPnhG_A",
        "outputId": "d31ebe8f-7cc3-4bd5-ee21-681e978b9886",
        "colab": {
          "base_uri": "https://localhost:8080/"
        }
      },
      "execution_count": 181,
      "outputs": [
        {
          "output_type": "execute_result",
          "data": {
            "text/plain": [
              "torch.Size([228146, 5, 15])"
            ]
          },
          "metadata": {},
          "execution_count": 181
        }
      ]
    },
    {
      "cell_type": "code",
      "source": [
        "W1 = torch.randn((block_size * emb_size, inner_size))\n",
        "b1 = torch.randn(inner_size)\n",
        "W2 = torch.randn((inner_size, 27))\n",
        "b2 = torch.randn(27)\n",
        "parameters = [C, W1, b1, W2, b2]\n",
        "for p in parameters:\n",
        "  p.requires_grad = True\n",
        "sum(p.nelement() for p in parameters)\n"
      ],
      "metadata": {
        "id": "1pM3JlRQoAbO",
        "outputId": "6398e07c-a4b8-42c2-e2a5-f48ec4030d4c",
        "colab": {
          "base_uri": "https://localhost:8080/"
        }
      },
      "execution_count": 182,
      "outputs": [
        {
          "output_type": "execute_result",
          "data": {
            "text/plain": [
              "31332"
            ]
          },
          "metadata": {},
          "execution_count": 182
        }
      ]
    },
    {
      "cell_type": "code",
      "source": [
        "#lre = torch.linspace(-3, 0, 1000)\n",
        "#lrs = 10**lre\n",
        "lossi = []\n",
        "stepi = []\n",
        "#lri = []"
      ],
      "metadata": {
        "id": "8a73IlTnajME"
      },
      "execution_count": 183,
      "outputs": []
    },
    {
      "cell_type": "code",
      "source": [
        "for i in range(50000):\n",
        "  # mini batch\n",
        "  ix = torch.randint(0, Xtr.shape[0], (64,))\n",
        "\n",
        "  # forward pass\n",
        "  emb = C[Xtr[ix]]\n",
        "  h = torch.tanh(emb.view(emb.shape[0], block_size * emb_size) @ W1 + b1) # emb.shape[0], block_size * emb_size\n",
        "  logits = h @ W2 + b2\n",
        "  #counts = logits.exp()\n",
        "  #prob = counts / counts.sum(dim=1, keepdim=True)\n",
        "  #loss = -prob[torch.arange(32), Y].log().mean()\n",
        "  loss = F.cross_entropy(logits, Ytr[ix])\n",
        "\n",
        "  # backward pass\n",
        "  for p in parameters:\n",
        "    p.grad = None\n",
        "  loss.backward()\n",
        "\n",
        "  # update\n",
        "  #lr = lrs[i]\n",
        "  lr = 0.1\n",
        "  for p in parameters:\n",
        "    p.data -= lr * p.grad\n",
        "\n",
        "  # stats\n",
        "  #lri.append(lre[i])\n",
        "  stepi.append(i)\n",
        "  lossi.append(loss.log10().item())\n",
        "print(loss.item())\n",
        "#plt.plot(lri, lossi)"
      ],
      "metadata": {
        "id": "HbuprJiLjAbF",
        "outputId": "55891adf-79ee-4747-d54d-6cfef0e5afd9",
        "colab": {
          "base_uri": "https://localhost:8080/"
        }
      },
      "execution_count": 189,
      "outputs": [
        {
          "output_type": "stream",
          "name": "stdout",
          "text": [
            "2.614713668823242\n"
          ]
        }
      ]
    },
    {
      "cell_type": "code",
      "source": [
        "plt.plot(stepi, lossi)"
      ],
      "metadata": {
        "id": "oe2e2vYPfxrg",
        "outputId": "150c70ac-bfd2-4722-b9c6-f1097586b762",
        "colab": {
          "base_uri": "https://localhost:8080/",
          "height": 447
        }
      },
      "execution_count": 185,
      "outputs": [
        {
          "output_type": "execute_result",
          "data": {
            "text/plain": [
              "[<matplotlib.lines.Line2D at 0x78b2f8e6d060>]"
            ]
          },
          "metadata": {},
          "execution_count": 185
        },
        {
          "output_type": "display_data",
          "data": {
            "text/plain": [
              "<Figure size 640x480 with 1 Axes>"
            ],
            "image/png": "[encoded data removed]"
          },
          "metadata": {}
        }
      ]
    },
    {
      "cell_type": "code",
      "source": [
        "emb = C[Xdev]\n",
        "h = torch.tanh(emb.view(emb.shape[0], block_size * emb_size) @ W1 + b1)\n",
        "logits = h @ W2 + b2\n",
        "loss = F.cross_entropy(logits, Ydev)\n",
        "loss"
      ],
      "metadata": {
        "id": "PG3rhLKroaEk",
        "outputId": "f70400a4-bb77-4ccb-9a33-c6de8107d4ec",
        "colab": {
          "base_uri": "https://localhost:8080/"
        }
      },
      "execution_count": 190,
      "outputs": [
        {
          "output_type": "execute_result",
          "data": {
            "text/plain": [
              "tensor(2.2637, grad_fn=<NllLossBackward0>)"
            ]
          },
          "metadata": {},
          "execution_count": 190
        }
      ]
    },
    {
      "cell_type": "code",
      "source": [
        "def sampling():\n",
        "  output = []\n",
        "  context = [0] * block_size\n",
        "  sample = 0\n",
        "\n",
        "  while True:\n",
        "    emb = C[torch.tensor(context)] # 1, 3, 10\n",
        "    h = torch.tanh(emb.view(1, -1) @ W1 + b1)\n",
        "    logits = h @ W2 + b2\n",
        "    probs = F.softmax(logits, dim=1)\n",
        "    ix = torch.multinomial(probs, 1).item()\n",
        "    context = context[1:] + [ix]\n",
        "    output.append(ix)\n",
        "    if ix == 0:\n",
        "      break\n",
        "  return output\n"
      ],
      "metadata": {
        "id": "btJDzEUgi2Zo"
      },
      "execution_count": 116,
      "outputs": []
    },
    {
      "cell_type": "code",
      "source": [
        "for n in range(20):\n",
        "  r = sampling()\n",
        "  result = ''\n",
        "  for i in r:\n",
        "    result += itos[i]\n",
        "  print(result)"
      ],
      "metadata": {
        "id": "KrOmNpUGks8Z",
        "outputId": "46f81539-9a02-429b-ea64-49caa1ed8d8b",
        "colab": {
          "base_uri": "https://localhost:8080/"
        }
      },
      "execution_count": 191,
      "outputs": [
        {
          "output_type": "stream",
          "name": "stdout",
          "text": [
            "chace.\n",
            "rar.\n",
            "laanna.\n",
            "caskleenari.\n",
            "rucsh.\n",
            "rashdonbrexson.\n",
            "carsland.\n",
            "rotlizandrea.\n",
            "sasho.\n",
            "hhben.\n",
            "asihfer.\n",
            "crehce.\n",
            "sakina.\n",
            "costelynn.\n",
            "jahphandonily.\n",
            "ormisne.\n",
            "chrreka.\n",
            "camwannira.\n",
            "corlenn.\n",
            "beronia.\n"
          ]
        }
      ]
    },
    {
      "cell_type": "code",
      "source": [
        "plt.figure(figsize=(8,8))\n",
        "plt.scatter(C[:,0].data, C[:,1].data, s=200)\n",
        "for i in range(C.shape[0]):\n",
        "    plt.text(C[i,0].item(), C[i,1].item(), itos[i], ha=\"center\", va=\"center\", color='white')\n",
        "plt.grid('minor')"
      ],
      "metadata": {
        "id": "TUDg49rRgt3N",
        "outputId": "e0ac0aee-ded9-49c9-c18d-c3bd8abfdf37",
        "colab": {
          "base_uri": "https://localhost:8080/",
          "height": 676
        }
      },
      "execution_count": 65,
      "outputs": [
        {
          "output_type": "display_data",
          "data": {
            "text/plain": [
              "<Figure size 800x800 with 1 Axes>"
            ],
            "image/png": "[encoded data removed]"
          },
          "metadata": {}
        }
      ]
    }
  ]
}