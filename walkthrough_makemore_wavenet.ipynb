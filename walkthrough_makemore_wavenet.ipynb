{
  "nbformat": 4,
  "nbformat_minor": 0,
  "metadata": {
    "colab": {
      "provenance": [],
      "authorship_tag": "ABX9TyOA1HCqsWxBGV2DOCZJXB4j",
      "include_colab_link": true
    },
    "kernelspec": {
      "name": "python3",
      "display_name": "Python 3"
    },
    "language_info": {
      "name": "python"
    }
  },
  "cells": [
    {
      "cell_type": "markdown",
      "metadata": {
        "id": "view-in-github",
        "colab_type": "text"
      },
      "source": [
        "<a href=\"https://colab.research.google.com/github/toussaintma/neuralnetworksfromzerotohero/blob/main/walkthrough_makemore_wavenet.ipynb\" target=\"_parent\"><img src=\"https://colab.research.google.com/assets/colab-badge.svg\" alt=\"Open In Colab\"/></a>"
      ]
    },
    {
      "cell_type": "code",
      "execution_count": 1,
      "metadata": {
        "colab": {
          "base_uri": "https://localhost:8080/"
        },
        "id": "cyYZ0mt5Gjbs",
        "outputId": "97e15005-13e3-4f5e-bd6d-e4f95707fb85"
      },
      "outputs": [
        {
          "output_type": "stream",
          "name": "stdout",
          "text": [
            "--2023-07-19 12:19:24--  https://raw.githubusercontent.com/karpathy/makemore/master/names.txt\n",
            "Resolving raw.githubusercontent.com (raw.githubusercontent.com)... 185.199.108.133, 185.199.109.133, 185.199.110.133, ...\n",
            "Connecting to raw.githubusercontent.com (raw.githubusercontent.com)|185.199.108.133|:443... connected.\n",
            "HTTP request sent, awaiting response... 200 OK\n",
            "Length: 228145 (223K) [text/plain]\n",
            "Saving to: ‘names.txt’\n",
            "\n",
            "\rnames.txt             0%[                    ]       0  --.-KB/s               \rnames.txt           100%[===================>] 222.80K  --.-KB/s    in 0.02s   \n",
            "\n",
            "2023-07-19 12:19:24 (13.4 MB/s) - ‘names.txt’ saved [228145/228145]\n",
            "\n"
          ]
        }
      ],
      "source": [
        "# data and code at https://github.com/karpathy/makemore\n",
        "# course at https://www.youtube.com/watch?v=PaCmpygFfXo&list=PLAqhIrjkxbuWI23v9cThsA9GvCAUhRvKZ&index=2&t=11s\n",
        "!wget https://raw.githubusercontent.com/karpathy/makemore/master/names.txt\n",
        "# Building makemore Part 5: Wavenet\n",
        "# wavenet paper: https://arxiv.org/abs/1609.03499"
      ]
    },
    {
      "cell_type": "code",
      "source": [
        "import pandas as pd\n",
        "import torch\n",
        "import torch.nn as nn\n",
        "import torch.nn.functional as F\n",
        "import matplotlib.pyplot as plt\n",
        "%matplotlib inline"
      ],
      "metadata": {
        "id": "oXIPh01GGrmY"
      },
      "execution_count": 2,
      "outputs": []
    },
    {
      "cell_type": "code",
      "source": [
        "df_words = pd.read_csv('names.txt', header=None, names=['name'])\n",
        "words = df_words['name'].values.tolist()\n",
        "df_words.shape"
      ],
      "metadata": {
        "colab": {
          "base_uri": "https://localhost:8080/"
        },
        "id": "T1f_nvniG1-E",
        "outputId": "7a9bb7b3-c298-4a08-d08c-77c3305adce4"
      },
      "execution_count": 3,
      "outputs": [
        {
          "output_type": "execute_result",
          "data": {
            "text/plain": [
              "(32033, 1)"
            ]
          },
          "metadata": {},
          "execution_count": 3
        }
      ]
    },
    {
      "cell_type": "code",
      "source": [
        "chars = sorted(list(set(\"\".join(words))))\n",
        "stoi = {c : i + 1 for i, c in enumerate(chars)}\n",
        "stoi['.'] = 0\n",
        "itos = {i + 1: chars[i] for i in range(len(chars))}\n",
        "itos[0] = '.'"
      ],
      "metadata": {
        "id": "DJ7nLs8iG43U"
      },
      "execution_count": 4,
      "outputs": []
    },
    {
      "cell_type": "code",
      "source": [
        "block_size = 8"
      ],
      "metadata": {
        "id": "2so4QyDeH8wv"
      },
      "execution_count": 14,
      "outputs": []
    },
    {
      "cell_type": "code",
      "source": [
        "def build_dataset(word):\n",
        "  X = []\n",
        "  Y = []\n",
        "  for w in words[:]:\n",
        "    #print(w)\n",
        "    context = [0] * block_size\n",
        "    for ch in w + '.':\n",
        "      ix = stoi[ch]\n",
        "      X.append(context)\n",
        "      Y.append(ix)\n",
        "      #print(''.join(itos[i] for i in context), ' --> ', itos[ix])\n",
        "      context = context[1:] + [ix]\n",
        "\n",
        "  X = torch.tensor(X)\n",
        "  Y = torch.tensor(Y)\n",
        "  return X, Y\n",
        "\n",
        "import random\n",
        "random.shuffle(words)\n",
        "n1 = int(0.8*len(words))\n",
        "n2 = int(0.9*len(words))\n",
        "\n",
        "Xtr, Ytr = build_dataset(words[:n1])\n",
        "Xdev, Ydev = build_dataset(words[n1:n2])\n",
        "Xte, Yte = build_dataset(words[n2:])"
      ],
      "metadata": {
        "id": "nyo73lyqHkDg"
      },
      "execution_count": 15,
      "outputs": []
    },
    {
      "cell_type": "code",
      "source": [
        "for i in range(len(Xtr[:20])):\n",
        "  print(\"\".join(list(map(lambda x: itos[x], Xtr[i].tolist()))) + ' ---> ' + itos[Ytr[i].item()])"
      ],
      "metadata": {
        "colab": {
          "base_uri": "https://localhost:8080/"
        },
        "id": "c_NYFHJeGayV",
        "outputId": "1922815a-9a92-40ca-cb0b-b41a041395e6"
      },
      "execution_count": 36,
      "outputs": [
        {
          "output_type": "stream",
          "name": "stdout",
          "text": [
            "........ ---> l\n",
            ".......l ---> y\n",
            "......ly ---> n\n",
            ".....lyn ---> d\n",
            "....lynd ---> e\n",
            "...lynde ---> n\n",
            "..lynden ---> .\n",
            "........ ---> b\n",
            ".......b ---> a\n",
            "......ba ---> y\n",
            ".....bay ---> l\n",
            "....bayl ---> e\n",
            "...bayle ---> r\n",
            "..bayler ---> .\n",
            "........ ---> t\n",
            ".......t ---> r\n",
            "......tr ---> e\n",
            ".....tre ---> s\n",
            "....tres ---> .\n",
            "........ ---> i\n"
          ]
        }
      ]
    },
    {
      "cell_type": "code",
      "source": [
        "n_embd = 10\n",
        "n_hidden = 68\n",
        "vocab_size = 27\n",
        "lossi = []\n",
        "max_steps = 20000\n",
        "batch_size = 32\n",
        "\n",
        "class FlattenConsecutive(torch.nn.Module):\n",
        "  def __init__(self, n):\n",
        "    super().__init__()\n",
        "    self.n = n\n",
        "\n",
        "  def __call__(self, x):\n",
        "    B, T, C = x.shape\n",
        "    x = x.view(B, T // self.n, C * self.n)\n",
        "    if x.shape[1] == 1:\n",
        "      x = x.squeeze(dim = 1)\n",
        "    self.out = x\n",
        "    return self.out\n",
        "\n",
        "class BatchNorm1d(torch.nn.Module):\n",
        "  def __init__(self, dim, eps=1e-5, momentum=0.1):\n",
        "    super().__init__()\n",
        "    self.eps = eps\n",
        "    self.momentum = momentum\n",
        "    self.training = True\n",
        "    self.gamma = torch.ones(dim)\n",
        "    self.beta = torch.zeros(dim)\n",
        "    self.running_mean = torch.zeros(dim)\n",
        "    self.running_var = torch.ones(dim)\n",
        "\n",
        "  def __call__(self, x):\n",
        "    if self.training:\n",
        "      if x.ndim == 2:\n",
        "        dim = 0\n",
        "      elif x.ndim == 3:\n",
        "        dim = (0, 1)\n",
        "      xmean = x.mean(dim, keepdim = True)\n",
        "      xvar = x.var(dim, keepdim = True)\n",
        "    else:\n",
        "      xmean = self.running_mean\n",
        "      xvar = self.running_var\n",
        "    xhat = (x - xmean) / torch.sqrt(xvar + self.eps)\n",
        "    self.out = self.gamma * xhat + self.beta\n",
        "    if self.training:\n",
        "      with torch.no_grad():\n",
        "        self.running_mean = (1 - self.momentum) * self.running_mean + self.momentum * x.mean()\n",
        "        self.running_var = (1 - self.momentum) * self.running_var + self.momentum * x.var()\n",
        "    return self.out\n",
        "\n",
        "    def parameters(self):\n",
        "      return [self.gamma, self.beta]\n",
        "\n",
        "    def train(self):\n",
        "      self.training = True\n",
        "\n",
        "    def eval(self):\n",
        "      self.training = False\n",
        "\n",
        "model = nn.Sequential(\n",
        "    nn.Embedding(vocab_size, n_embd),\n",
        "    FlattenConsecutive(2), nn.Linear(n_embd * 2, n_hidden, bias=False), BatchNorm1d(n_hidden), nn.Tanh(),\n",
        "    FlattenConsecutive(2), nn.Linear(n_hidden * 2, n_hidden, bias=False), BatchNorm1d(n_hidden), nn.Tanh(),\n",
        "    FlattenConsecutive(2), nn.Linear(n_hidden * 2, n_hidden, bias=False), BatchNorm1d(n_hidden), nn.Tanh(),\n",
        "    nn.Linear(n_hidden, vocab_size),\n",
        ")\n",
        "\n",
        "with torch.no_grad():\n",
        "  model[13].weight *= 0.01\n",
        "\n",
        "parameters = [p for p in model.parameters()]\n",
        "\n",
        "print(sum(p.nelement() for p in parameters))\n",
        "for p in parameters:\n",
        "  p.requires_grad = True"
      ],
      "metadata": {
        "colab": {
          "base_uri": "https://localhost:8080/"
        },
        "id": "AbYzBab7G5Zc",
        "outputId": "c3670aba-9538-4562-cfe4-b041fa8b2c24"
      },
      "execution_count": 110,
      "outputs": [
        {
          "output_type": "stream",
          "name": "stdout",
          "text": [
            "21989\n"
          ]
        }
      ]
    },
    {
      "cell_type": "code",
      "source": [
        "#ix = torch.randint(0, Xtr.shape[0], (4,))\n",
        "#Xb, Yb = Xtr[ix], Ytr[ix]\n",
        "#logits = model(Xb)\n",
        "#print(Xb.shape)\n",
        "#Xb"
      ],
      "metadata": {
        "colab": {
          "base_uri": "https://localhost:8080/"
        },
        "id": "86QV0TbsKW3s",
        "outputId": "82446089-4b93-4e18-d76a-46230f33f058"
      },
      "execution_count": 49,
      "outputs": [
        {
          "output_type": "stream",
          "name": "stdout",
          "text": [
            "torch.Size([4, 8])\n"
          ]
        },
        {
          "output_type": "execute_result",
          "data": {
            "text/plain": [
              "tensor([[ 0,  0,  0,  0,  0,  0,  0, 10],\n",
              "        [ 0,  0,  0,  0,  0,  0,  0, 12],\n",
              "        [ 0,  0,  0,  0,  0,  0,  0,  1],\n",
              "        [ 0,  3,  1, 20,  8, 18, 25, 14]])"
            ]
          },
          "metadata": {},
          "execution_count": 49
        }
      ]
    },
    {
      "cell_type": "code",
      "source": [
        "# (1,2) (3,4) (5,6) (7,8)\n",
        "f = torch.randn(4, 8, 10)\n",
        "e = f.view(4, 4, 20)\n",
        "explicit = torch.cat((f[:, ::2, :], f[:, 1::2, :]), dim=2)\n",
        "e.shape, explicit.shape, (e == explicit).all()"
      ],
      "metadata": {
        "colab": {
          "base_uri": "https://localhost:8080/"
        },
        "id": "3-HphtV5Omce",
        "outputId": "92bf5ee1-b728-4156-a56d-3dbbfbc93612"
      },
      "execution_count": 102,
      "outputs": [
        {
          "output_type": "execute_result",
          "data": {
            "text/plain": [
              "(torch.Size([4, 4, 20]), torch.Size([4, 4, 20]), tensor(True))"
            ]
          },
          "metadata": {},
          "execution_count": 102
        }
      ]
    },
    {
      "cell_type": "code",
      "source": [
        "model.train()\n",
        "for i in range(max_steps):\n",
        "  # mini batch\n",
        "  ix = torch.randint(0, Xtr.shape[0], (batch_size,))\n",
        "  Xb, Yb = Xtr[ix], Ytr[ix]\n",
        "\n",
        "\n",
        "  # Forward pass\n",
        "  logits = model(Xb)\n",
        "  loss = F.cross_entropy(logits, Yb)\n",
        "\n",
        "  # backward pass\n",
        "  for p in parameters:\n",
        "    p.grad = None\n",
        "  loss.backward()\n",
        "\n",
        "  # update\n",
        "  lr = 0.1 if i < 15000 else 0.01\n",
        "\n",
        "  for p in parameters:\n",
        "    p.data += -lr * p.grad\n",
        "\n",
        "  # stats\n",
        "  if (i % 1000 == 0):\n",
        "    print(F'step:{i:7d}/{max_steps:7d} loss:{loss.item():.4f}')\n",
        "  lossi.append(loss.log10().item())"
      ],
      "metadata": {
        "colab": {
          "base_uri": "https://localhost:8080/"
        },
        "id": "yJFdRiGeK3EX",
        "outputId": "c7422b1d-71e3-4cc3-f76d-7adda0705f58"
      },
      "execution_count": 111,
      "outputs": [
        {
          "output_type": "stream",
          "name": "stdout",
          "text": [
            "step:      0/  20000 loss:3.3266\n",
            "step:   1000/  20000 loss:2.4286\n",
            "step:   2000/  20000 loss:2.6566\n",
            "step:   3000/  20000 loss:2.3601\n",
            "step:   4000/  20000 loss:2.1226\n",
            "step:   5000/  20000 loss:2.4756\n",
            "step:   6000/  20000 loss:2.4841\n",
            "step:   7000/  20000 loss:2.1672\n",
            "step:   8000/  20000 loss:2.3735\n",
            "step:   9000/  20000 loss:2.1099\n",
            "step:  10000/  20000 loss:2.0867\n",
            "step:  11000/  20000 loss:2.6538\n",
            "step:  12000/  20000 loss:2.1320\n",
            "step:  13000/  20000 loss:1.9355\n",
            "step:  14000/  20000 loss:2.3905\n",
            "step:  15000/  20000 loss:2.3441\n",
            "step:  16000/  20000 loss:2.2099\n",
            "step:  17000/  20000 loss:1.8831\n",
            "step:  18000/  20000 loss:2.0488\n",
            "step:  19000/  20000 loss:2.3010\n"
          ]
        }
      ]
    },
    {
      "cell_type": "code",
      "source": [
        "plt.plot(torch.tensor(lossi).view(-1, 1000).mean(1))"
      ],
      "metadata": {
        "colab": {
          "base_uri": "https://localhost:8080/",
          "height": 447
        },
        "id": "woVlFfJdL7O9",
        "outputId": "e6973295-b013-4594-b41e-baad294335a6"
      },
      "execution_count": 112,
      "outputs": [
        {
          "output_type": "execute_result",
          "data": {
            "text/plain": [
              "[<matplotlib.lines.Line2D at 0x79a01608e740>]"
            ]
          },
          "metadata": {},
          "execution_count": 112
        },
        {
          "output_type": "display_data",
          "data": {
            "text/plain": [
              "<Figure size 640x480 with 1 Axes>"
            ],
            "image/png": "[encoded data removed]"
          },
          "metadata": {}
        }
      ]
    },
    {
      "cell_type": "code",
      "source": [
        "model.eval()"
      ],
      "metadata": {
        "colab": {
          "base_uri": "https://localhost:8080/"
        },
        "id": "x3StBUEOO5kz",
        "outputId": "624d5e2a-45bb-4599-d673-26e6156fc31f"
      },
      "execution_count": 113,
      "outputs": [
        {
          "output_type": "execute_result",
          "data": {
            "text/plain": [
              "Sequential(\n",
              "  (0): Embedding(27, 10)\n",
              "  (1): FlattenConsecutive()\n",
              "  (2): Linear(in_features=20, out_features=68, bias=False)\n",
              "  (3): BatchNorm1d()\n",
              "  (4): Tanh()\n",
              "  (5): FlattenConsecutive()\n",
              "  (6): Linear(in_features=136, out_features=68, bias=False)\n",
              "  (7): BatchNorm1d()\n",
              "  (8): Tanh()\n",
              "  (9): FlattenConsecutive()\n",
              "  (10): Linear(in_features=136, out_features=68, bias=False)\n",
              "  (11): BatchNorm1d()\n",
              "  (12): Tanh()\n",
              "  (13): Linear(in_features=68, out_features=27, bias=True)\n",
              ")"
            ]
          },
          "metadata": {},
          "execution_count": 113
        }
      ]
    },
    {
      "cell_type": "code",
      "source": [
        "@torch.no_grad()\n",
        "def split_loss(split):\n",
        "  x,y = {\n",
        "      'train': (Xtr, Ytr),\n",
        "      'val': (Xdev, Ydev),\n",
        "      'test': (Xte, Yte),\n",
        "  }[split]\n",
        "\n",
        "  logits = model(x)\n",
        "  loss = F.cross_entropy(logits, y)\n",
        "  print(split, loss.item())\n",
        "\n",
        "split_loss('train')\n",
        "split_loss('val')"
      ],
      "metadata": {
        "colab": {
          "base_uri": "https://localhost:8080/"
        },
        "id": "oVEoGKUfPBGz",
        "outputId": "041d0d92-d2c2-4f91-9e58-50f1563d2ab2"
      },
      "execution_count": 114,
      "outputs": [
        {
          "output_type": "stream",
          "name": "stdout",
          "text": [
            "train 2.710339307785034\n",
            "val 2.710339307785034\n"
          ]
        }
      ]
    },
    {
      "cell_type": "code",
      "source": [
        "def sample():\n",
        "  output = []\n",
        "  context = [0] * block_size\n",
        "  sample = 0\n",
        "\n",
        "  while True:\n",
        "    logits = model(torch.tensor([context])) # 1, 3, 10\n",
        "    probs = F.softmax(logits, dim=1)\n",
        "    ix = torch.multinomial(probs, 1).item()\n",
        "    context = context[1:] + [ix]\n",
        "    output.append(ix)\n",
        "    if ix == 0:\n",
        "      break\n",
        "  return output"
      ],
      "metadata": {
        "id": "2QAhMFCHe49j"
      },
      "execution_count": 115,
      "outputs": []
    },
    {
      "cell_type": "code",
      "source": [
        "for j in range(10):\n",
        "  print(''.join([itos[i] for i in sample()]))"
      ],
      "metadata": {
        "colab": {
          "base_uri": "https://localhost:8080/"
        },
        "id": "b4eNrZORe4uY",
        "outputId": "bb732a1e-541e-49b3-ae74-1565855e93e4"
      },
      "execution_count": 116,
      "outputs": [
        {
          "output_type": "stream",
          "name": "stdout",
          "text": [
            "dasbynakhina.\n",
            "finttsjataustlitstn.\n",
            "jikajalsanjycaswuzsmari.\n",
            "raxlzjanchaitanjyanshathreantha.\n",
            "hllisiansal.\n",
            "danyamaja.\n",
            "cphrantenthiazlynnzelorltynasshahthiccianemuez.\n",
            "nahalann.\n",
            "marottyo.\n",
            "lbiasteidlolehkahanamaineheq.\n"
          ]
        }
      ]
    }
  ]
}