{
  "nbformat": 4,
  "nbformat_minor": 0,
  "metadata": {
    "colab": {
      "provenance": [],
      "authorship_tag": "ABX9TyMJ630JIoQfdZjd6+NhWI/f",
      "include_colab_link": true
    },
    "kernelspec": {
      "name": "python3",
      "display_name": "Python 3"
    },
    "language_info": {
      "name": "python"
    }
  },
  "cells": [
    {
      "cell_type": "markdown",
      "metadata": {
        "id": "view-in-github",
        "colab_type": "text"
      },
      "source": [
        "<a href=\"https://colab.research.google.com/github/toussaintma/neuralnetworksfromzerotohero/blob/main/walkthrough_makemore_wavenet.ipynb\" target=\"_parent\"><img src=\"https://colab.research.google.com/assets/colab-badge.svg\" alt=\"Open In Colab\"/></a>"
      ]
    },
    {
      "cell_type": "code",
      "execution_count": 25,
      "metadata": {
        "colab": {
          "base_uri": "https://localhost:8080/"
        },
        "id": "cyYZ0mt5Gjbs",
        "outputId": "d7ab0b4c-93aa-46dd-a1bc-419482f11e8a"
      },
      "outputs": [
        {
          "output_type": "stream",
          "name": "stdout",
          "text": [
            "--2023-07-17 14:10:03--  https://raw.githubusercontent.com/karpathy/makemore/master/names.txt\n",
            "Resolving raw.githubusercontent.com (raw.githubusercontent.com)... 185.199.108.133, 185.199.109.133, 185.199.110.133, ...\n",
            "Connecting to raw.githubusercontent.com (raw.githubusercontent.com)|185.199.108.133|:443... connected.\n",
            "HTTP request sent, awaiting response... 200 OK\n",
            "Length: 228145 (223K) [text/plain]\n",
            "Saving to: ‘names.txt.1’\n",
            "\n",
            "\rnames.txt.1           0%[                    ]       0  --.-KB/s               \rnames.txt.1         100%[===================>] 222.80K  --.-KB/s    in 0.009s  \n",
            "\n",
            "2023-07-17 14:10:04 (23.3 MB/s) - ‘names.txt.1’ saved [228145/228145]\n",
            "\n"
          ]
        }
      ],
      "source": [
        "# data and code at https://github.com/karpathy/makemore\n",
        "# course at https://www.youtube.com/watch?v=PaCmpygFfXo&list=PLAqhIrjkxbuWI23v9cThsA9GvCAUhRvKZ&index=2&t=11s\n",
        "!wget https://raw.githubusercontent.com/karpathy/makemore/master/names.txt\n",
        "# Building makemore Part 5: Wavenet"
      ]
    },
    {
      "cell_type": "code",
      "source": [
        "import pandas as pd\n",
        "import torch\n",
        "import torch.nn as nn\n",
        "import torch.nn.functional as F\n",
        "import matplotlib.pyplot as plt\n",
        "%matplotlib inline"
      ],
      "metadata": {
        "id": "oXIPh01GGrmY"
      },
      "execution_count": 26,
      "outputs": []
    },
    {
      "cell_type": "code",
      "source": [
        "df_words = pd.read_csv('names.txt', header=None, names=['name'])\n",
        "words = df_words['name'].values.tolist()\n",
        "df_words.shape"
      ],
      "metadata": {
        "colab": {
          "base_uri": "https://localhost:8080/"
        },
        "id": "T1f_nvniG1-E",
        "outputId": "5867855b-116b-4839-e2ff-c1b333c32e2c"
      },
      "execution_count": 27,
      "outputs": [
        {
          "output_type": "execute_result",
          "data": {
            "text/plain": [
              "(32033, 1)"
            ]
          },
          "metadata": {},
          "execution_count": 27
        }
      ]
    },
    {
      "cell_type": "code",
      "source": [
        "chars = sorted(list(set(\"\".join(words))))\n",
        "stoi = {c : i + 1 for i, c in enumerate(chars)}\n",
        "stoi['.'] = 0\n",
        "itos = {i + 1: chars[i] for i in range(len(chars))}\n",
        "itos[0] = '.'"
      ],
      "metadata": {
        "id": "DJ7nLs8iG43U"
      },
      "execution_count": 28,
      "outputs": []
    },
    {
      "cell_type": "code",
      "source": [
        "block_size = 3"
      ],
      "metadata": {
        "id": "2so4QyDeH8wv"
      },
      "execution_count": 29,
      "outputs": []
    },
    {
      "cell_type": "code",
      "source": [
        "def build_dataset(word):\n",
        "  X = []\n",
        "  Y = []\n",
        "  for w in words[:]:\n",
        "    #print(w)\n",
        "    context = [0] * block_size\n",
        "    for ch in w + '.':\n",
        "      ix = stoi[ch]\n",
        "      X.append(context)\n",
        "      Y.append(ix)\n",
        "      #print(''.join(itos[i] for i in context), ' --> ', itos[ix])\n",
        "      context = context[1:] + [ix]\n",
        "\n",
        "  X = torch.tensor(X)\n",
        "  Y = torch.tensor(Y)\n",
        "  return X, Y\n",
        "\n",
        "import random\n",
        "random.shuffle(words)\n",
        "n1 = int(0.8*len(words))\n",
        "n2 = int(0.9*len(words))\n",
        "\n",
        "Xtr, Ytr = build_dataset(words[:n1])\n",
        "Xdev, Ydev = build_dataset(words[n1:n2])\n",
        "Xte, Yte = build_dataset(words[n2:])"
      ],
      "metadata": {
        "id": "nyo73lyqHkDg"
      },
      "execution_count": 30,
      "outputs": []
    },
    {
      "cell_type": "code",
      "source": [
        "n_embd = 10\n",
        "n_hidden = 200\n",
        "vocab_size = 27\n",
        "lossi = []\n",
        "max_steps = 20000\n",
        "batch_size = 32\n",
        "\n",
        "model = nn.Sequential(\n",
        "    nn.Embedding(vocab_size, n_embd), nn.Flatten(),\n",
        "    nn.Linear(n_embd * block_size, n_hidden, bias=False), nn.BatchNorm1d(n_hidden), nn.Tanh(),\n",
        "    nn.Linear(n_hidden, vocab_size),\n",
        ")\n",
        "\n",
        "with torch.no_grad():\n",
        "  model[5].weight *= 0.01\n",
        "\n",
        "parameters = [p for p in model.parameters()]\n",
        "\n",
        "print(sum(p.nelement() for p in parameters))\n",
        "for p in parameters:\n",
        "  p.requires_grad = True"
      ],
      "metadata": {
        "colab": {
          "base_uri": "https://localhost:8080/"
        },
        "id": "AbYzBab7G5Zc",
        "outputId": "58f9871f-44c8-4a75-d7ef-64da2aa80d48"
      },
      "execution_count": 168,
      "outputs": [
        {
          "output_type": "stream",
          "name": "stdout",
          "text": [
            "12097\n"
          ]
        }
      ]
    },
    {
      "cell_type": "code",
      "source": [
        "model.train()\n",
        "for i in range(max_steps):\n",
        "  # mini batch\n",
        "  ix = torch.randint(0, Xtr.shape[0], (batch_size,))\n",
        "  Xb, Yb = Xtr[ix], Ytr[ix]\n",
        "\n",
        "\n",
        "  # Forward pass\n",
        "  logits = model(Xb)\n",
        "  loss = F.cross_entropy(logits, Yb)\n",
        "\n",
        "  # backward pass\n",
        "  for p in parameters:\n",
        "    p.grad = None\n",
        "  loss.backward()\n",
        "\n",
        "  # update\n",
        "  lr = 0.1 if i < 15000 else 0.01\n",
        "\n",
        "  for p in parameters:\n",
        "    p.data += -lr * p.grad\n",
        "\n",
        "  # stats\n",
        "  if (i % 1000 == 0):\n",
        "    print(F'step:{i:7d}/{max_steps:7d} loss:{loss.item():.4f}')\n",
        "  lossi.append(loss.log10().item())"
      ],
      "metadata": {
        "colab": {
          "base_uri": "https://localhost:8080/"
        },
        "id": "yJFdRiGeK3EX",
        "outputId": "7f1e3e9c-2b8e-4cb9-835d-8df63735ec55"
      },
      "execution_count": 169,
      "outputs": [
        {
          "output_type": "stream",
          "name": "stdout",
          "text": [
            "step:      0/  20000 loss:3.2974\n",
            "step:   1000/  20000 loss:2.3854\n",
            "step:   2000/  20000 loss:2.6493\n",
            "step:   3000/  20000 loss:2.5085\n",
            "step:   4000/  20000 loss:2.5850\n",
            "step:   5000/  20000 loss:2.4048\n",
            "step:   6000/  20000 loss:2.0108\n",
            "step:   7000/  20000 loss:2.2081\n",
            "step:   8000/  20000 loss:2.5118\n",
            "step:   9000/  20000 loss:2.1657\n",
            "step:  10000/  20000 loss:2.3399\n",
            "step:  11000/  20000 loss:2.0770\n",
            "step:  12000/  20000 loss:2.3482\n",
            "step:  13000/  20000 loss:2.2974\n",
            "step:  14000/  20000 loss:2.2947\n",
            "step:  15000/  20000 loss:1.9002\n",
            "step:  16000/  20000 loss:2.2933\n",
            "step:  17000/  20000 loss:2.2573\n",
            "step:  18000/  20000 loss:1.9675\n",
            "step:  19000/  20000 loss:2.1380\n"
          ]
        }
      ]
    },
    {
      "cell_type": "code",
      "source": [
        "plt.plot(torch.tensor(lossi).view(-1, 1000).mean(1))"
      ],
      "metadata": {
        "colab": {
          "base_uri": "https://localhost:8080/",
          "height": 447
        },
        "id": "woVlFfJdL7O9",
        "outputId": "18541fb6-27d2-4463-eac3-a319c5ae731f"
      },
      "execution_count": 170,
      "outputs": [
        {
          "output_type": "execute_result",
          "data": {
            "text/plain": [
              "[<matplotlib.lines.Line2D at 0x7f1ed5abcd30>]"
            ]
          },
          "metadata": {},
          "execution_count": 170
        },
        {
          "output_type": "display_data",
          "data": {
            "text/plain": [
              "<Figure size 640x480 with 1 Axes>"
            ],
            "image/png": "[encoded data removed]"
          },
          "metadata": {}
        }
      ]
    },
    {
      "cell_type": "code",
      "source": [
        "model.eval()"
      ],
      "metadata": {
        "colab": {
          "base_uri": "https://localhost:8080/"
        },
        "id": "x3StBUEOO5kz",
        "outputId": "8f617b9c-4204-423e-f5d4-30b70dbcdadb"
      },
      "execution_count": 171,
      "outputs": [
        {
          "output_type": "execute_result",
          "data": {
            "text/plain": [
              "Sequential(\n",
              "  (0): Embedding(27, 10)\n",
              "  (1): Flatten(start_dim=1, end_dim=-1)\n",
              "  (2): Linear(in_features=30, out_features=200, bias=False)\n",
              "  (3): BatchNorm1d(200, eps=1e-05, momentum=0.1, affine=True, track_running_stats=True)\n",
              "  (4): Tanh()\n",
              "  (5): Linear(in_features=200, out_features=27, bias=True)\n",
              ")"
            ]
          },
          "metadata": {},
          "execution_count": 171
        }
      ]
    },
    {
      "cell_type": "code",
      "source": [
        "@torch.no_grad()\n",
        "def split_loss(split):\n",
        "  x,y = {\n",
        "      'train': (Xtr, Ytr),\n",
        "      'val': (Xdev, Ydev),\n",
        "      'test': (Xte, Yte),\n",
        "  }[split]\n",
        "\n",
        "  logits = model(x)\n",
        "  loss = F.cross_entropy(logits, y)\n",
        "  print(split, loss.item())\n",
        "\n",
        "split_loss('train')\n",
        "split_loss('val')"
      ],
      "metadata": {
        "colab": {
          "base_uri": "https://localhost:8080/"
        },
        "id": "oVEoGKUfPBGz",
        "outputId": "e2e0ccf7-339e-4d95-9f57-da58c1986543"
      },
      "execution_count": 172,
      "outputs": [
        {
          "output_type": "stream",
          "name": "stdout",
          "text": [
            "train 2.1565449237823486\n",
            "val 2.1565449237823486\n"
          ]
        }
      ]
    },
    {
      "cell_type": "code",
      "source": [
        "def sample():\n",
        "  output = []\n",
        "  context = [0] * block_size\n",
        "  sample = 0\n",
        "\n",
        "  while True:\n",
        "    logits = model(torch.tensor([context])) # 1, 3, 10\n",
        "    probs = F.softmax(logits, dim=1)\n",
        "    ix = torch.multinomial(probs, 1).item()\n",
        "    context = context[1:] + [ix]\n",
        "    output.append(ix)\n",
        "    if ix == 0:\n",
        "      break\n",
        "  return output"
      ],
      "metadata": {
        "id": "2QAhMFCHe49j"
      },
      "execution_count": 173,
      "outputs": []
    },
    {
      "cell_type": "code",
      "source": [
        "for j in range(10):\n",
        "  print(''.join([itos[i] for i in sample()]))"
      ],
      "metadata": {
        "colab": {
          "base_uri": "https://localhost:8080/"
        },
        "id": "b4eNrZORe4uY",
        "outputId": "8b0daba3-9582-4738-c252-90737f440975"
      },
      "execution_count": 174,
      "outputs": [
        {
          "output_type": "stream",
          "name": "stdout",
          "text": [
            "tean.\n",
            "bana.\n",
            "jamarier.\n",
            "aisabpus.\n",
            "shyn.\n",
            "blanylei.\n",
            "issleel.\n",
            "brometi.\n",
            "tavieaghawyah.\n",
            "terron.\n"
          ]
        }
      ]
    }
  ]
}