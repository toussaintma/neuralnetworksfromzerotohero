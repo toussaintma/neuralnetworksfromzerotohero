{
  "nbformat": 4,
  "nbformat_minor": 0,
  "metadata": {
    "colab": {
      "provenance": [],
      "authorship_tag": "ABX9TyMZd3NGYAnnfr5NUos080Pz",
      "include_colab_link": true
    },
    "kernelspec": {
      "name": "python3",
      "display_name": "Python 3"
    },
    "language_info": {
      "name": "python"
    }
  },
  "cells": [
    {
      "cell_type": "markdown",
      "metadata": {
        "id": "view-in-github",
        "colab_type": "text"
      },
      "source": [
        "<a href=\"https://colab.research.google.com/github/toussaintma/neuralnetworksfromzerotohero/blob/main/walkthrough_makemore_activations.ipynb\" target=\"_parent\"><img src=\"https://colab.research.google.com/assets/colab-badge.svg\" alt=\"Open In Colab\"/></a>"
      ]
    },
    {
      "cell_type": "code",
      "execution_count": 2,
      "metadata": {
        "colab": {
          "base_uri": "https://localhost:8080/"
        },
        "id": "7KbBLLIJW_E1",
        "outputId": "9760044d-94e3-45a1-f6c4-4cb1f4a3078b"
      },
      "outputs": [
        {
          "output_type": "stream",
          "name": "stdout",
          "text": [
            "--2023-07-16 15:47:47--  https://raw.githubusercontent.com/karpathy/makemore/master/names.txt\n",
            "Resolving raw.githubusercontent.com (raw.githubusercontent.com)... 185.199.108.133, 185.199.109.133, 185.199.110.133, ...\n",
            "Connecting to raw.githubusercontent.com (raw.githubusercontent.com)|185.199.108.133|:443... connected.\n",
            "HTTP request sent, awaiting response... 200 OK\n",
            "Length: 228145 (223K) [text/plain]\n",
            "Saving to: ‘names.txt’\n",
            "\n",
            "names.txt           100%[===================>] 222.80K  --.-KB/s    in 0.02s   \n",
            "\n",
            "2023-07-16 15:47:47 (13.0 MB/s) - ‘names.txt’ saved [228145/228145]\n",
            "\n"
          ]
        }
      ],
      "source": [
        "# data and code at https://github.com/karpathy/makemore\n",
        "# course at https://www.youtube.com/watch?v=PaCmpygFfXo&list=PLAqhIrjkxbuWI23v9cThsA9GvCAUhRvKZ&index=2&t=11s\n",
        "!wget https://raw.githubusercontent.com/karpathy/makemore/master/names.txt\n",
        "# Building makemore Part 3: Activations & Gradients, BatchNorm\n",
        "# BatchNorm paper"
      ]
    },
    {
      "cell_type": "code",
      "source": [
        "import pandas as pd\n",
        "import torch\n",
        "import torch.nn.functional as F\n",
        "import matplotlib.pyplot as plt\n",
        "%matplotlib inline"
      ],
      "metadata": {
        "id": "FI-GwpzcXTHe"
      },
      "execution_count": 3,
      "outputs": []
    },
    {
      "cell_type": "code",
      "source": [
        "df_words = pd.read_csv('names.txt', header=None, names=['name'])\n",
        "words = df_words['name'].values.tolist()\n",
        "df_words.shape"
      ],
      "metadata": {
        "colab": {
          "base_uri": "https://localhost:8080/"
        },
        "id": "H0mp_INDXUuL",
        "outputId": "d3368ae9-f1b8-4faf-e9b2-cfee4c351d00"
      },
      "execution_count": 6,
      "outputs": [
        {
          "output_type": "execute_result",
          "data": {
            "text/plain": [
              "(32033, 1)"
            ]
          },
          "metadata": {},
          "execution_count": 6
        }
      ]
    },
    {
      "cell_type": "code",
      "source": [
        "chars = sorted(list(set(\"\".join(words))))\n",
        "stoi = {c : i + 1 for i, c in enumerate(chars)}\n",
        "stoi['.'] = 0\n",
        "itos = {i + 1: chars[i] for i in range(len(chars))}\n",
        "itos[0] = '.'"
      ],
      "metadata": {
        "id": "GJX6_PIwXVpK"
      },
      "execution_count": 7,
      "outputs": []
    },
    {
      "cell_type": "code",
      "source": [
        "block_size = 5\n",
        "emb_size = 15\n",
        "inner_size = 300"
      ],
      "metadata": {
        "id": "6qBWKm7_XY1W"
      },
      "execution_count": 8,
      "outputs": []
    },
    {
      "cell_type": "code",
      "source": [
        "def build_dataset(word):\n",
        "  X = []\n",
        "  Y = []\n",
        "  for w in words[:]:\n",
        "    #print(w)\n",
        "    context = [0] * block_size\n",
        "    for ch in w + '.':\n",
        "      ix = stoi[ch]\n",
        "      X.append(context)\n",
        "      Y.append(ix)\n",
        "      #print(''.join(itos[i] for i in context), ' --> ', itos[ix])\n",
        "      context = context[1:] + [ix]\n",
        "\n",
        "  X = torch.tensor(X)\n",
        "  Y = torch.tensor(Y)\n",
        "  return X, Y\n",
        "\n",
        "import random\n",
        "random.seed(42)\n",
        "random.shuffle(words)\n",
        "n1 = int(0.8*len(words))\n",
        "n2 = int(0.9*len(words))\n",
        "\n",
        "Xtr, Ytr = build_dataset(words[:n1])\n",
        "Xdev, Ydev = build_dataset(words[n1:n2])\n",
        "Xte, Yte = build_dataset(words[n2:])"
      ],
      "metadata": {
        "id": "ET_QSIzFXc5A"
      },
      "execution_count": 9,
      "outputs": []
    },
    {
      "cell_type": "code",
      "source": [
        "C = torch.randn((27, emb_size))\n",
        "W1 = torch.randn((block_size * emb_size, inner_size)) * (5/3)/((block_size * emb_size)**0.5)\n",
        "#b1 = torch.randn(inner_size) * 0.01\n",
        "W2 = torch.randn((inner_size, 27)) * 0.01\n",
        "b2 = torch.randn(27) * 0\n",
        "\n",
        "bngain = torch.ones((1, inner_size))\n",
        "bnbias = torch.zeros((1, inner_size))\n",
        "bnmean_running = torch.zeros((1, inner_size))\n",
        "bnstd_running = torch.ones((1, inner_size))\n",
        "\n",
        "parameters = [C, W1, W2, b2, bngain, bnbias]\n",
        "for p in parameters:\n",
        "  p.requires_grad = True\n",
        "sum(p.nelement() for p in parameters)"
      ],
      "metadata": {
        "colab": {
          "base_uri": "https://localhost:8080/"
        },
        "id": "hJH1_vYRXdoa",
        "outputId": "33899955-cd51-4a71-ad3d-e0e270281679"
      },
      "execution_count": 102,
      "outputs": [
        {
          "output_type": "execute_result",
          "data": {
            "text/plain": [
              "31632"
            ]
          },
          "metadata": {},
          "execution_count": 102
        }
      ]
    },
    {
      "cell_type": "code",
      "source": [
        "lossi = []\n",
        "max_steps = 20000\n",
        "batch_size = 64"
      ],
      "metadata": {
        "id": "oaHqowprXj3M"
      },
      "execution_count": 103,
      "outputs": []
    },
    {
      "cell_type": "code",
      "source": [
        "for i in range(max_steps):\n",
        "  # mini batch\n",
        "  ix = torch.randint(0, Xtr.shape[0], (batch_size,))\n",
        "\n",
        "  # forward pass\n",
        "  emb = C[Xtr[ix]]\n",
        "  embcat = emb.view(emb.shape[0], -1) #block_size * emb_size\n",
        "  # Linear layer\n",
        "  preact = embcat @ W1 #+ b1 not needed because of batch norm\n",
        "  # Batch Norm layer\n",
        "  bnmeani = preact.mean(dim=0, keepdim=True)\n",
        "  bnstdi = preact.std(dim=0, keepdim=True)\n",
        "  with torch.no_grad():\n",
        "    bnmean_running = 0.999 * bnmean_running + 0.001 * bnmeani\n",
        "    bnstd_running = 0.999 * bnstd_running + 0.001 * bnstdi\n",
        "\n",
        "  preact = bngain * (preact - bnmeani) / bnstdi + bnbias\n",
        "  # Non-linearity\n",
        "  h = torch.tanh(preact)\n",
        "  logits = h @ W2 + b2\n",
        "  loss = F.cross_entropy(logits, Ytr[ix])\n",
        "\n",
        "  # backward pass\n",
        "  for p in parameters:\n",
        "    p.grad = None\n",
        "  loss.backward()\n",
        "\n",
        "  # update\n",
        "  if i < 10000:\n",
        "    lr = 0.1\n",
        "  else:\n",
        "    lr = 0.01\n",
        "\n",
        "  for p in parameters:\n",
        "    p.data -= lr * p.grad\n",
        "\n",
        "  # stats\n",
        "  if (i % 1000 == 0):\n",
        "    print(F'step:{i:7d}/{max_steps:7d} loss:{loss.item():.4f}')\n",
        "  lossi.append(loss.log10().item())\n",
        "  #plt.hist(h.view(-1).tolist(), 50)\n",
        "  #plt.figure(figsize=(20, 10))\n",
        "  #plt.imshow(h.abs() > 0.99, cmap='gray', interpolation='nearest')\n",
        "\n",
        "  #break\n",
        "\n",
        "print(loss.item())\n",
        "plt.plot(lossi)"
      ],
      "metadata": {
        "colab": {
          "base_uri": "https://localhost:8080/",
          "height": 812
        },
        "id": "YGEnvzOLXmfB",
        "outputId": "4e6f75b0-64a2-41bc-f7df-f4d79aafc272"
      },
      "execution_count": 104,
      "outputs": [
        {
          "output_type": "stream",
          "name": "stdout",
          "text": [
            "step:      0/  20000 loss:3.2832\n",
            "step:   1000/  20000 loss:2.3414\n",
            "step:   2000/  20000 loss:2.4329\n",
            "step:   3000/  20000 loss:2.1085\n",
            "step:   4000/  20000 loss:2.5837\n",
            "step:   5000/  20000 loss:2.0441\n",
            "step:   6000/  20000 loss:2.2964\n",
            "step:   7000/  20000 loss:2.4483\n",
            "step:   8000/  20000 loss:2.1874\n",
            "step:   9000/  20000 loss:2.1672\n",
            "step:  10000/  20000 loss:1.9684\n",
            "step:  11000/  20000 loss:2.4285\n",
            "step:  12000/  20000 loss:2.1233\n",
            "step:  13000/  20000 loss:2.3197\n",
            "step:  14000/  20000 loss:2.0840\n",
            "step:  15000/  20000 loss:2.1839\n",
            "step:  16000/  20000 loss:2.2848\n",
            "step:  17000/  20000 loss:2.0099\n",
            "step:  18000/  20000 loss:2.0160\n",
            "step:  19000/  20000 loss:2.1702\n",
            "2.0329949855804443\n"
          ]
        },
        {
          "output_type": "execute_result",
          "data": {
            "text/plain": [
              "[<matplotlib.lines.Line2D at 0x7c7ae04b2020>]"
            ]
          },
          "metadata": {},
          "execution_count": 104
        },
        {
          "output_type": "display_data",
          "data": {
            "text/plain": [
              "<Figure size 640x480 with 1 Axes>"
            ],
            "image/png": "[encoded data removed]"
          },
          "metadata": {}
        }
      ]
    },
    {
      "cell_type": "code",
      "source": [
        "#calibrate the batch norm\n",
        "with torch.no_grad():\n",
        "  emb = C[Xtr]\n",
        "  embcat = emb.view(emb.shape[0], -1)\n",
        "  preact = embcat @ W1 #+ b1\n",
        "  bnmean = preact.mean(dim=0, keepdim=True)\n",
        "  bnstd = preact.std(dim=0, keepdim=True)"
      ],
      "metadata": {
        "id": "icxqviPQrhBF"
      },
      "execution_count": 86,
      "outputs": []
    },
    {
      "cell_type": "code",
      "source": [
        "#(bnmean - bnmean_running).abs() > 0.1"
      ],
      "metadata": {
        "id": "-dAI3PTbtWTT"
      },
      "execution_count": 95,
      "outputs": []
    },
    {
      "cell_type": "code",
      "source": [
        "@torch.no_grad()\n",
        "def split_loss(split):\n",
        "  x,y = {\n",
        "      'train': (Xtr, Ytr),\n",
        "      'dev': (Xdev, Ydev),\n",
        "      'test': (Xte, Yte),\n",
        "  }[split]\n",
        "  emb = C[x]\n",
        "  #preact = emb.view(emb.shape[0], -1) @ W1 + b1\n",
        "  embcat = emb.view(emb.shape[0], -1)\n",
        "  preact = embcat @ W1 #+ b1 not needed due to batch norm\n",
        "  #preact = bngain * (preact - preact.mean(dim=0, keepdim=True)) / preact.std(dim=0, keepdim=True) + bnbias\n",
        "  preact = bngain * (preact - bnmean_running) / bnstd_running + bnbias\n",
        "  h = torch.tanh(preact)\n",
        "  logits = h @ W2 + b2\n",
        "  loss = F.cross_entropy(logits, y)\n",
        "  print(split, loss.item())\n",
        "\n",
        "split_loss('train')\n",
        "split_loss('dev')"
      ],
      "metadata": {
        "colab": {
          "base_uri": "https://localhost:8080/"
        },
        "id": "GYQ1aes3ZIlc",
        "outputId": "b2488e59-9b3a-444a-eab4-25ea127352f8"
      },
      "execution_count": 105,
      "outputs": [
        {
          "output_type": "stream",
          "name": "stdout",
          "text": [
            "train 2.0734364986419678\n",
            "dev 2.0734364986419678\n"
          ]
        }
      ]
    },
    {
      "cell_type": "code",
      "source": [
        "def sample():\n",
        "  output = []\n",
        "  context = [0] * block_size\n",
        "  sample = 0\n",
        "\n",
        "  while True:\n",
        "    emb = C[torch.tensor(context)] # 1, 3, 10\n",
        "    h = torch.tanh(emb.view(1, -1) @ W1 + b1)\n",
        "    logits = h @ W2 + b2\n",
        "    probs = F.softmax(logits, dim=1)\n",
        "    ix = torch.multinomial(probs, 1).item()\n",
        "    context = context[1:] + [ix]\n",
        "    output.append(ix)\n",
        "    if ix == 0:\n",
        "      break\n",
        "  return output"
      ],
      "metadata": {
        "id": "T5B41d4EaWb3"
      },
      "execution_count": 106,
      "outputs": []
    },
    {
      "cell_type": "code",
      "source": [
        "for j in range(2):\n",
        "  print(''.join([itos[i] for i in sample()]))"
      ],
      "metadata": {
        "colab": {
          "base_uri": "https://localhost:8080/"
        },
        "id": "ZrruNwDMau8x",
        "outputId": "722175f0-d73a-41d4-996d-70ba57c56a96"
      },
      "execution_count": 107,
      "outputs": [
        {
          "output_type": "stream",
          "name": "stdout",
          "text": [
            "karjjwnsttgrenslofraystrabstah.\n",
            "magderlosghnfvekglaj.\n"
          ]
        }
      ]
    },
    {
      "cell_type": "code",
      "source": [
        "-torch.tensor(1/27.0).log()"
      ],
      "metadata": {
        "colab": {
          "base_uri": "https://localhost:8080/"
        },
        "id": "M8j5A_rKcr-J",
        "outputId": "9eb0dbfd-9e11-416a-8950-c583833a454a"
      },
      "execution_count": 36,
      "outputs": [
        {
          "output_type": "execute_result",
          "data": {
            "text/plain": [
              "tensor(3.2958)"
            ]
          },
          "metadata": {},
          "execution_count": 36
        }
      ]
    }
  ]
}